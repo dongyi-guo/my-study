{
 "cells": [
  {
   "cell_type": "markdown",
   "metadata": {
    "id": "E-tPe1B5hEF2"
   },
   "source": [
    "# Get Started with Flower\n",
    "\n",
    "## Introduction\n",
    "\n",
    "Flower (```flwr```) is a framework used to build Federated Learning systems. It was created with the mind of customizability, extendability, adapting with multiple machine learning framework, but easily understandable to provide desirable maintainability for its users.\n",
    "\n",
    "To proceed, we install the necessary modules via pip, including flower itself, the machine learning framework we will be using and others:"
   ]
  },
  {
   "cell_type": "code",
   "execution_count": 13,
   "metadata": {
    "ExecuteTime": {
     "end_time": "2024-03-06T21:44:25.330028Z",
     "start_time": "2024-03-06T21:44:21.476542Z"
    },
    "colab": {
     "base_uri": "https://localhost:8080/"
    },
    "id": "RdRN1MJ4gWVI",
    "outputId": "00007ae9-b096-47f6-f9fc-4fc37e509d10"
   },
   "outputs": [],
   "source": [
    "!pip install -q 'flwr[simulation]' 'flwr_datasets[vision]' torch torchvision matplotlib numpy scipy"
   ]
  },
  {
   "cell_type": "markdown",
   "metadata": {
    "id": "ZwF_qD7LhOfg"
   },
   "source": [
    "Then, we import the modules:"
   ]
  },
  {
   "cell_type": "code",
   "execution_count": 14,
   "metadata": {
    "ExecuteTime": {
     "end_time": "2024-03-06T21:44:25.336867Z",
     "start_time": "2024-03-06T21:44:25.332168Z"
    },
    "colab": {
     "base_uri": "https://localhost:8080/"
    },
    "id": "8HxIeqGlghuO",
    "outputId": "d1fdbf3b-9640-47a4-f2c1-ae9b34035791"
   },
   "outputs": [],
   "source": [
    "from collections import OrderedDict\n",
    "from typing import List, Tuple, Dict, Optional, Union, Callable, cast\n",
    "from io import BytesIO\n",
    "from logging import WARNING\n",
    "\n",
    "import matplotlib.pyplot as plt\n",
    "import numpy as np\n",
    "import torch\n",
    "import torch.nn as nn\n",
    "import torch.nn.functional as F\n",
    "import torchvision.transforms as transforms\n",
    "from datasets.utils.logging import disable_progress_bar\n",
    "from torch.utils.data import DataLoader, random_split\n",
    "from torchvision.datasets import CIFAR10\n",
    "\n",
    "import flwr as fl\n",
    "from flwr_datasets import FederatedDataset\n",
    "from flwr.common import (\n",
    "    Code,\n",
    "    EvaluateIns,\n",
    "    EvaluateRes,\n",
    "    FitIns,\n",
    "    FitRes,\n",
    "    GetParametersIns,\n",
    "    GetParametersRes,\n",
    "    Status,\n",
    "    Metrics,\n",
    "    MetricsAggregationFn,\n",
    "    NDArrays,\n",
    "    Parameters,\n",
    "    Scalar,\n",
    "    ndarrays_to_parameters,\n",
    "    parameters_to_ndarrays,\n",
    ")\n",
    "from flwr.common.logger import log\n",
    "from flwr.server.client_proxy import ClientProxy\n",
    "from flwr.server.strategy import FedAvg\n",
    "from flwr.server.strategy.aggregate import aggregate\n",
    "from flwr.common.typing import NDArray, NDArrays, Parameters\n",
    "from flwr.server.client_manager import ClientManager\n",
    "from flwr.server.client_proxy import ClientProxy\n",
    "from flwr.server.strategy.aggregate import aggregate, weighted_loss_avg"
   ]
  },
  {
   "cell_type": "markdown",
   "metadata": {
    "id": "WgOP1SENihi9"
   },
   "source": [
    "To see where this machine learning is running on:"
   ]
  },
  {
   "cell_type": "code",
   "execution_count": 15,
   "metadata": {
    "ExecuteTime": {
     "end_time": "2024-03-06T21:44:25.339903Z",
     "start_time": "2024-03-06T21:44:25.337719Z"
    },
    "colab": {
     "base_uri": "https://localhost:8080/"
    },
    "id": "Xzw-6iTNidus",
    "outputId": "39edb6f9-d9f9-485a-90ae-32ae76e5e73b"
   },
   "outputs": [
    {
     "name": "stdout",
     "output_type": "stream",
     "text": [
      "Train on cpu using Pytorch 2.0.0 and Flower 1.7.0\n"
     ]
    }
   ],
   "source": [
    "DEVICE = torch.device(\"cpu\")  # If GPU available, use \"cuda?, if not available or any errors, change to \"cpu\" to use CPU\n",
    "print (f\"Train on {DEVICE} using Pytorch {torch.__version__} and Flower {fl.__version__}\")\n",
    "disable_progress_bar();"
   ]
  },
  {
   "cell_type": "markdown",
   "metadata": {
    "id": "DshvIQx2k_xw"
   },
   "source": [
    "## Loading Data\n",
    "\n",
    "In this notebook, we are going to train an image classifiers on a dataset CIFAR-10, the model after training should be able to classify objects in the image, such as airplane, dogs or trucks.\n",
    "\n",
    "In real-life scenario, a huge dataset is always to gluing outcome of multiple smaller datasets from different entities. This is also the case from Federated Learning, there is no transfer on data, there is no chance of them to sit in a large database. Of course they could also play the role of different collaborators, trying to utilise machine learning techniques but having solid data security concerns or regulations, making them unwilling to share the data.\n",
    "\n",
    "Now we will import the data and slice it:"
   ]
  },
  {
   "cell_type": "code",
   "execution_count": 16,
   "metadata": {
    "ExecuteTime": {
     "end_time": "2024-03-06T21:44:35.180391Z",
     "start_time": "2024-03-06T21:44:25.340949Z"
    },
    "colab": {
     "base_uri": "https://localhost:8080/"
    },
    "id": "4nyg1E7Zmj1F",
    "outputId": "46fd1a6c-9f3d-46fc-f966-7ee863ef55d1"
   },
   "outputs": [],
   "source": [
    "NUM_CLIENTS = 10\n",
    "BATCH_SIZE = 32\n",
    "\n",
    "def load_datasets():\n",
    "  dataset_federated = FederatedDataset(\n",
    "      dataset=\"cifar10\",\n",
    "      partitioners={\"train\": NUM_CLIENTS}\n",
    "      )\n",
    "\n",
    "  def apply_transforms(batch):\n",
    "    transform = transforms.Compose(\n",
    "        [\n",
    "            transforms.ToTensor(),\n",
    "            transforms.Normalize((0.5,0.5,0.5),(0.5,0.5,0.5)),\n",
    "        ]\n",
    "    )\n",
    "    batch[\"img\"] = [transform(img) for img in batch[\"img\"]]\n",
    "    return batch\n",
    "\n",
    "  trainloaders = []\n",
    "  valloaders = []\n",
    "  for partition_id in range(NUM_CLIENTS):\n",
    "    partition = dataset_federated.load_partition(partition_id, \"train\")\n",
    "    partition = partition.with_transform(apply_transforms)\n",
    "    partition = partition.train_test_split(train_size=0.8)\n",
    "    trainloaders.append(DataLoader(partition[\"train\"], batch_size=BATCH_SIZE))\n",
    "    valloaders.append(DataLoader(partition[\"test\"], batch_size=BATCH_SIZE))\n",
    "  testset = dataset_federated.load_full(\"test\").with_transform(apply_transforms)\n",
    "  testloader = DataLoader(testset, batch_size=BATCH_SIZE)\n",
    "  return trainloaders, valloaders, testloader\n",
    "\n",
    "trainloaders, valloaders, testloader = load_datasets()"
   ]
  },
  {
   "cell_type": "markdown",
   "metadata": {
    "id": "_ab9ISL-rKRE"
   },
   "source": [
    "What the snippet above did is to create 10 training sets and 10 validation sets, respectively ```trainloaders``` and ```valloaders```. representing 10 different organisatiosn let's say. Each of this \"organisation\" will pair 4500 training examples from the \"trainloader\" and 500 validation examples from the \"valloader\".\n",
    "\n",
    "There is also a complete set of data as ```testloader```.\n",
    "\n",
    "Now, we inspect the data see if things are getting in:"
   ]
  },
  {
   "cell_type": "code",
   "execution_count": 17,
   "metadata": {
    "ExecuteTime": {
     "end_time": "2024-03-06T21:44:35.715479Z",
     "start_time": "2024-03-06T21:44:35.180857Z"
    },
    "colab": {
     "base_uri": "https://localhost:8080/",
     "height": 439
    },
    "id": "Qw8rMB_RsBgs",
    "outputId": "6b3f13da-a134-4802-9f27-84279d7e2343"
   },
   "outputs": [
    {
     "data": {
      "image/png": "[encoded data removed]",
      "text/plain": [
       "<Figure size 1200x600 with 32 Axes>"
      ]
     },
     "metadata": {},
     "output_type": "display_data"
    }
   ],
   "source": [
    "batch = next(iter(trainloaders[0]))\n",
    "images, labels = batch[\"img\"], batch[\"label\"]\n",
    "\n",
    "# Now we change this to a numpy array, matplotlib will require it as (h, w, 3)\n",
    "images = images.permute(0,2,3,1).numpy()\n",
    "\n",
    "images = images / 2 + 0.5\n",
    "\n",
    "# Create Visual\n",
    "\n",
    "fig, axs = plt.subplots(4,8,figsize=(12,6))\n",
    "\n",
    "for i,ax in enumerate(axs.flat):\n",
    "  ax.imshow(images[i])\n",
    "  ax.set_title(trainloaders[0].dataset.features[\"label\"].int2str([labels[i]])[0])\n",
    "  ax.axis(\"off\")\n",
    "fig.tight_layout()\n",
    "plt.show()"
   ]
  },
  {
   "cell_type": "markdown",
   "metadata": {
    "id": "XaJFNVLPuRjC"
   },
   "source": [
    "## Centralised Machine Learning\n",
    "\n",
    "So first we will just do this with PyTorch simply, just like the old application of centralised machine learing.\n",
    "\n",
    "### Define the Model\n",
    "\n",
    "We use a Convolutional Neural Network, also known as CNN:"
   ]
  },
  {
   "cell_type": "code",
   "execution_count": 18,
   "metadata": {
    "ExecuteTime": {
     "end_time": "2024-03-06T21:44:35.720699Z",
     "start_time": "2024-03-06T21:44:35.715988Z"
    },
    "id": "u6FXVURYujWz"
   },
   "outputs": [],
   "source": [
    "class Net(nn.Module):\n",
    "  def __init__(self) -> None:\n",
    "    super(Net, self).__init__()\n",
    "    self.conv1 = nn.Conv2d(3,6,5)\n",
    "    self.pool = nn.MaxPool2d(2,2)\n",
    "    self.conv2 = nn.Conv2d(6,16,5)\n",
    "    self.fc1 = nn.Linear(16 * 5 * 5, 120)\n",
    "    self.fc2 = nn.Linear(120, 84)\n",
    "    self.fc3 = nn.Linear(84, 10)\n",
    "\n",
    "  def forward(self, x: torch.Tensor) -> torch.Tensor:\n",
    "    x = self.pool(F.relu(self.conv1(x)))\n",
    "    x = self.pool(F.relu(self.conv2(x)))\n",
    "    x = x.view(-1, 16 * 5 * 5)\n",
    "    x = F.relu(self.fc1(x))\n",
    "    x = F.relu(self.fc2(x))\n",
    "    x = self.fc3(x)\n",
    "    return x\n",
    "\n",
    "# train() and test()\n",
    "\n",
    "def train(net, trainloader, epochs: int, verbose=False):\n",
    "  criterion = torch.nn.CrossEntropyLoss()\n",
    "  optimizer = torch.optim.Adam(net.parameters())\n",
    "  net.train()\n",
    "  for epoch in range(epochs):\n",
    "    correct,total,epoch_loss = 0, 0, 0.0\n",
    "    for batch in trainloader:\n",
    "      images, labels = batch[\"img\"].to(DEVICE), batch[\"label\"].to(DEVICE)\n",
    "      optimizer.zero_grad()\n",
    "      outputs = net(images)\n",
    "      loss = criterion(outputs, labels)\n",
    "      loss.backward()\n",
    "      optimizer.step()\n",
    "\n",
    "      epoch_loss += loss\n",
    "      total += labels.size(0)\n",
    "      correct += (torch.max(outputs.data, 1)[1] == labels).sum().item()\n",
    "    epoch_loss /= len(trainloader.dataset)\n",
    "    epoch_acc = correct / total\n",
    "    if verbose:\n",
    "      print(f\"Epoch {epoch+1}: train_loss {loss} accuracy {accuracy}\")\n",
    "\n",
    "def test(net, testloader):\n",
    "  criterion = torch.nn.CrossEntropyLoss()\n",
    "  correct, total, loss = 0, 0, 0.0\n",
    "  net.eval()\n",
    "  with torch.no_grad():\n",
    "    for batch in testloader:\n",
    "      images, labels = batch[\"img\"].to(DEVICE), batch[\"label\"].to(DEVICE)\n",
    "      outputs = net(images)\n",
    "      loss += criterion(outputs, labels).item()\n",
    "      _, predicted = torch.max(outputs.data, 1)\n",
    "      total += labels.size(0)\n",
    "      correct += (predicted == labels).sum().item()\n",
    "  loss /= len(testloader.dataset)\n",
    "  accuracy = correct / total\n",
    "  return loss, accuracy"
   ]
  },
  {
   "cell_type": "markdown",
   "metadata": {
    "id": "k8Vir0_fy9Ap"
   },
   "source": [
    "### Train the Model\n",
    "\n",
    "Now we train the model, but this time we only use one organisation ```trainloaders[0]``` and ```valloaders[0]```."
   ]
  },
  {
   "cell_type": "code",
   "execution_count": 19,
   "metadata": {
    "ExecuteTime": {
     "end_time": "2024-03-06T21:44:43.296710Z",
     "start_time": "2024-03-06T21:44:35.721280Z"
    },
    "colab": {
     "base_uri": "https://localhost:8080/"
    },
    "id": "FbB-jM52zO51",
    "outputId": "9e700bb5-b1dc-404d-8fd3-dd1706aa5807"
   },
   "outputs": [
    {
     "name": "stdout",
     "output_type": "stream",
     "text": [
      "Epoch 1: Validation Loss: 0.06224009490013122, Accuracy: 0.29\n",
      "Epoch 2: Validation Loss: 0.05784169399738312, Accuracy: 0.351\n",
      "Epoch 3: Validation Loss: 0.05524677574634552, Accuracy: 0.386\n",
      "Epoch 4: Validation Loss: 0.05332243418693543, Accuracy: 0.388\n",
      "Epoch 5: Validation Loss: 0.05218049120903015, Accuracy: 0.406\n",
      "Final test set performance:\n",
      "\tLoss: 0.05090556625127792\n",
      "\tAccurary: 0.4129\n"
     ]
    }
   ],
   "source": [
    "trainloader = trainloaders[0]\n",
    "valloader = valloaders[0]\n",
    "net = Net().to(DEVICE)\n",
    "\n",
    "for epoch in range(5):\n",
    "  train(net,trainloader, 1)\n",
    "  loss, accuracy = test(net, valloader)\n",
    "  print(f\"Epoch {epoch+1}: Validation Loss: {loss}, Accuracy: {accuracy}\")\n",
    "\n",
    "loss, accuracy = test(net, testloader)\n",
    "print(f\"Final test set performance:\\n\\tLoss: {loss}\\n\\tAccurary: {accuracy}\")"
   ]
  },
  {
   "cell_type": "markdown",
   "metadata": {
    "id": "x7RZPjP105gE"
   },
   "source": [
    "Now you just tried your first machine learning pipeline. Congrats! The accuracy obviously is not all time high, but it's fine.\n",
    "\n",
    "## Flower: Federated Learning\n",
    "\n",
    "In the learning before, we just used one \"organisation\" (```trainloaders[0]``` and ```valloaders[0]```). Now we will actually deploy Federated Learning, making this machine learning actually go accross multiple \"organisations\".\n",
    "\n",
    "### Update Model Parameters\n",
    "\n",
    "In Federated Learning, the global server firstly sends the Global Model's Parameters to each client, then the client will update the local model with the parameters by training the model with its local data. Then the updated model with new parameters will be sent back to the server, or actually the gradients back to the global server instead of full model parameters.\n",
    "\n",
    "To achieve this, we need to helper functions ```set_parameters()``` and ```get_parameters()``` for the client to use. The parameters will be retrieved from the tensors as dicts, then converted into a list of numpy ndarrays, which Flower can serialise and deseriliase."
   ]
  },
  {
   "cell_type": "code",
   "execution_count": 20,
   "metadata": {
    "ExecuteTime": {
     "end_time": "2024-03-06T21:44:43.299226Z",
     "start_time": "2024-03-06T21:44:43.297365Z"
    },
    "id": "vzeDeQJA_sxt"
   },
   "outputs": [],
   "source": [
    "def set_parameters(net, parameters: List[np.ndarray]) -> None:\n",
    "  params_dict = zip(net.state_dict().keys(), parameters)\n",
    "  state_dict = OrderedDict({k: torch.Tensor(v) for k, v in params_dict})\n",
    "  net.load_state_dict(state_dict, strict=True)\n",
    "\n",
    "def get_parameters(net) -> List[np.ndarray]:\n",
    "  return [val.cpu().numpy() for _, val in net.state_dict().items()]"
   ]
  },
  {
   "cell_type": "markdown",
   "metadata": {
    "id": "h6sEWO0GBlnr"
   },
   "source": [
    "### Implement Flower Client\n",
    "\n",
    "A Federated Learning Framework consists a shared global server for model aggregation and update and multiple clients for model training. In Flower, how you create each of those clients is to implement subclass of built-in classes in Flower ```flwr.client.Client()``` or ```flwr.client.NumPyClient```, and this subclass implement 3 key functions:\n",
    "\n",
    "* ```get_parameters```: Return current Local Model's Parameters.\n",
    "* ```fit```:\n",
    "  * Receive Global Model Parameters from the server.\n",
    "  * Train the Model Parameters with local data.\n",
    "  * Return the Updated Local Parameters to the server.\n",
    "* ```evaluate```:\n",
    "  * Receive Update Global Model Parameters from the server.\n",
    "  * Evaluate the Model Parameters with local data.\n",
    "  * Return the evaluation result to the server.\n",
    "\n",
    "We can just use our functions defined previously when we are demostrating PyTorch with centralised machine learning:"
   ]
  },
  {
   "cell_type": "code",
   "execution_count": 21,
   "metadata": {
    "ExecuteTime": {
     "end_time": "2024-03-06T21:44:43.302116Z",
     "start_time": "2024-03-06T21:44:43.299764Z"
    },
    "id": "HhR3ZBLUDqbk"
   },
   "outputs": [],
   "source": [
    "class FlowerClient(fl.client.NumPyClient):\n",
    "  def __init__(self, net, trainloader, valloader):\n",
    "    self.net = net\n",
    "    self.trainloader = trainloader\n",
    "    self.valloader = valloader\n",
    "\n",
    "  def get_parameters(self, config):\n",
    "    return get_parameters(self.net)\n",
    "\n",
    "  def fit(self, parameters, config):\n",
    "    set_parameters(self.net, parameters)\n",
    "    train(self.net, self.trainloader, epochs=1)\n",
    "    return get_parameters(self.net), len(self.trainloader), {}\n",
    "\n",
    "  def evaluate(self, parameters, config):\n",
    "    set_parameters(self.net, parameters)\n",
    "    loss, accuracy = test(self.net, self.valloader)\n",
    "    return float(loss), len(self.valloader), {\"accuracy\": float(accuracy)}"
   ]
  },
  {
   "cell_type": "markdown",
   "metadata": {
    "id": "8MvEBPewFAwF"
   },
   "source": [
    "From now then on, each client in our Federated Learning Framework is an instance of this class.\n",
    "\n",
    "### Use Virtual Client Engine\n",
    "\n",
    "If we have 10 clients, normally it would mean that we have 10 devices with their own hardwares to run the client-side jobs. However, here we are trying to simulate this in one device, this could be resource-consuming as all clients are sharing the same hardware with each other on the same machine.\n",
    "\n",
    "To avoid this resource blackhole, we can utilise Flower's special simulation capacities to create clients on demand: they will only be created when necessary and they will be discarded after use when no longer needed without any local state kept.\n",
    "\n",
    "Here, ```client_fn(cid: str)``` is the function used here that whenever a client needs to be created, Flower will call this function and whenever it needs a instance of one particular client to use ```fit()``` and ```evaluate()```. The identification is done by client ID."
   ]
  },
  {
   "cell_type": "code",
   "execution_count": 22,
   "metadata": {
    "ExecuteTime": {
     "end_time": "2024-03-06T21:44:43.305141Z",
     "start_time": "2024-03-06T21:44:43.303743Z"
    },
    "id": "aPHvdn8SG1o2"
   },
   "outputs": [],
   "source": [
    "def client_fn(cid: str) -> FlowerClient:\n",
    "  return FlowerClient(\n",
    "    Net().to(DEVICE),\n",
    "    trainloaders[int(cid)],\n",
    "    valloaders[int(cid)]\n",
    "  ).to_client()"
   ]
  },
  {
   "cell_type": "markdown",
   "metadata": {
    "id": "s3oUJy-9qIeM"
   },
   "source": [
    "### Accuracy\n",
    "\n",
    "If we just go set the train now, we won't be able to find the accuracy. Flower can automatically aggregate losses from individual clients, but not the same for metrics in the generic metrics dictionary \\(the one with the accuracy key\\). The metrics dictionaries can contain very different kinds of metrics and even k/v pairs that are not metrics at all. This leads to the framework has no idea how to handle these automatically.\n",
    "\n",
    "As the users we need to tell the framework to handle/aggregate these custom metrics, we do this by passing the metric aggregatin fuctions into the strategy as parameter, possibly ```fit_metrics_aggregation_fn``` and ```evaluate_metrics_aggregation_fn```, the strategy will then call the function whenever it receives fit or evaluate metrics from clients."
   ]
  },
  {
   "cell_type": "code",
   "execution_count": 23,
   "metadata": {
    "ExecuteTime": {
     "end_time": "2024-03-06T21:44:43.307265Z",
     "start_time": "2024-03-06T21:44:43.305558Z"
    },
    "id": "GusL0eX4I9w9"
   },
   "outputs": [],
   "source": [
    "def weighted_average(metrics: List[Tuple[int, Metrics]]) -> Metrics:\n",
    "  # Accuracy of Each Client * Number of Examples\n",
    "  accus = [num_examples * m[\"accuracy\"] for num_examples, m in metrics]\n",
    "  examples = [num_examples for num_examples, _ in metrics]\n",
    "\n",
    "  return {\"accuracy\": sum(accus) / sum(examples)}"
   ]
  },
  {
   "cell_type": "markdown",
   "metadata": {
    "id": "EpHHH0JUIiNm"
   },
   "source": [
    "### De Train\n",
    "\n",
    "Now we have everything prepared, it's time to train, with ```flwr.simulation.start_simulation()```.\n",
    "\n",
    "Just like before, this function accepts numerous variables, including the ```client_fn``` to create ```FlowerClient``` instances, number of clients, number of rounds, and the strategy, which is the Federated Learning Algorithm/Approach we are using here - Federated Averaging, here it encapsulates the built-in  strategies ```fl.server.strategy.FedAvg```, where of course, you can pass some parameters in to customize your strategy a bit:"
   ]
  },
  {
   "cell_type": "code",
   "execution_count": 24,
   "metadata": {
    "ExecuteTime": {
     "end_time": "2024-03-06T21:45:09.917054Z",
     "start_time": "2024-03-06T21:44:43.307782Z"
    },
    "colab": {
     "base_uri": "https://localhost:8080/"
    },
    "id": "xGgV9lrGI9zF",
    "outputId": "efa7cafc-c7b4-4479-88a6-40a9cb0475e1"
   },
   "outputs": [
    {
     "name": "stderr",
     "output_type": "stream",
     "text": [
      "INFO flwr 2024-03-07 08:44:43,308 | app.py:178 | Starting Flower simulation, config: ServerConfig(num_rounds=5, round_timeout=None)\n",
      "2024-03-07 08:44:46,905\tINFO worker.py:1621 -- Started a local Ray instance.\n",
      "INFO flwr 2024-03-07 08:44:47,639 | app.py:213 | Flower VCE: Ray initialized with resources: {'memory': 3424960512.0, 'CPU': 8.0, 'object_store_memory': 1712480256.0, 'node:127.0.0.1': 1.0, 'node:__internal_head__': 1.0}\n",
      "INFO flwr 2024-03-07 08:44:47,639 | app.py:219 | Optimize your simulation with Flower VCE: https://flower.dev/docs/framework/how-to-run-simulations.html\n",
      "INFO flwr 2024-03-07 08:44:47,639 | app.py:242 | Flower VCE: Resources for each Virtual Client: {'num_cpus': 1, 'num_gpus': 0.0}\n",
      "INFO flwr 2024-03-07 08:44:47,648 | app.py:288 | Flower VCE: Creating VirtualClientEngineActorPool with 8 actors\n",
      "INFO flwr 2024-03-07 08:44:47,648 | server.py:89 | Initializing global parameters\n",
      "INFO flwr 2024-03-07 08:44:47,649 | server.py:276 | Requesting initial parameters from one random client\n",
      "INFO flwr 2024-03-07 08:44:49,954 | server.py:280 | Received initial parameters from one random client\n",
      "INFO flwr 2024-03-07 08:44:49,955 | server.py:91 | Evaluating initial parameters\n",
      "INFO flwr 2024-03-07 08:44:49,955 | server.py:104 | FL starting\n",
      "DEBUG flwr 2024-03-07 08:44:49,956 | server.py:222 | fit_round 1: strategy sampled 10 clients (out of 10)\n",
      "DEBUG flwr 2024-03-07 08:44:55,112 | server.py:236 | fit_round 1 received 10 results and 0 failures\n",
      "WARNING flwr 2024-03-07 08:44:55,122 | fedavg.py:250 | No fit_metrics_aggregation_fn provided\n",
      "DEBUG flwr 2024-03-07 08:44:55,122 | server.py:173 | evaluate_round 1: strategy sampled 5 clients (out of 10)\n",
      "DEBUG flwr 2024-03-07 08:44:55,364 | server.py:187 | evaluate_round 1 received 5 results and 0 failures\n",
      "DEBUG flwr 2024-03-07 08:44:55,364 | server.py:222 | fit_round 2: strategy sampled 10 clients (out of 10)\n",
      "DEBUG flwr 2024-03-07 08:44:58,848 | server.py:236 | fit_round 2 received 10 results and 0 failures\n",
      "DEBUG flwr 2024-03-07 08:44:58,856 | server.py:173 | evaluate_round 2: strategy sampled 5 clients (out of 10)\n",
      "DEBUG flwr 2024-03-07 08:44:59,077 | server.py:187 | evaluate_round 2 received 5 results and 0 failures\n",
      "DEBUG flwr 2024-03-07 08:44:59,077 | server.py:222 | fit_round 3: strategy sampled 10 clients (out of 10)\n",
      "DEBUG flwr 2024-03-07 08:45:02,444 | server.py:236 | fit_round 3 received 10 results and 0 failures\n",
      "DEBUG flwr 2024-03-07 08:45:02,452 | server.py:173 | evaluate_round 3: strategy sampled 5 clients (out of 10)\n",
      "DEBUG flwr 2024-03-07 08:45:02,712 | server.py:187 | evaluate_round 3 received 5 results and 0 failures\n",
      "DEBUG flwr 2024-03-07 08:45:02,713 | server.py:222 | fit_round 4: strategy sampled 10 clients (out of 10)\n",
      "DEBUG flwr 2024-03-07 08:45:06,038 | server.py:236 | fit_round 4 received 10 results and 0 failures\n",
      "DEBUG flwr 2024-03-07 08:45:06,045 | server.py:173 | evaluate_round 4: strategy sampled 5 clients (out of 10)\n",
      "DEBUG flwr 2024-03-07 08:45:06,265 | server.py:187 | evaluate_round 4 received 5 results and 0 failures\n",
      "DEBUG flwr 2024-03-07 08:45:06,265 | server.py:222 | fit_round 5: strategy sampled 10 clients (out of 10)\n",
      "DEBUG flwr 2024-03-07 08:45:09,658 | server.py:236 | fit_round 5 received 10 results and 0 failures\n",
      "DEBUG flwr 2024-03-07 08:45:09,666 | server.py:173 | evaluate_round 5: strategy sampled 5 clients (out of 10)\n",
      "DEBUG flwr 2024-03-07 08:45:09,906 | server.py:187 | evaluate_round 5 received 5 results and 0 failures\n",
      "INFO flwr 2024-03-07 08:45:09,906 | server.py:153 | FL finished in 19.950552249999873\n",
      "INFO flwr 2024-03-07 08:45:09,907 | app.py:226 | app_fit: losses_distributed [(1, 0.06478477792739867), (2, 0.056353582334518426), (3, 0.0526910890340805), (4, 0.05142029814720154), (5, 0.04899074211120606)]\n",
      "INFO flwr 2024-03-07 08:45:09,908 | app.py:227 | app_fit: metrics_distributed_fit {}\n",
      "INFO flwr 2024-03-07 08:45:09,908 | app.py:228 | app_fit: metrics_distributed {'accuracy': [(1, 0.267), (2, 0.3652), (3, 0.396), (4, 0.41200000000000003), (5, 0.43339999999999995)]}\n",
      "INFO flwr 2024-03-07 08:45:09,908 | app.py:229 | app_fit: losses_centralized []\n",
      "INFO flwr 2024-03-07 08:45:09,908 | app.py:230 | app_fit: metrics_centralized {}\n"
     ]
    },
    {
     "data": {
      "text/plain": [
       "History (loss, distributed):\n",
       "\tround 1: 0.06478477792739867\n",
       "\tround 2: 0.056353582334518426\n",
       "\tround 3: 0.0526910890340805\n",
       "\tround 4: 0.05142029814720154\n",
       "\tround 5: 0.04899074211120606\n",
       "History (metrics, distributed, evaluate):\n",
       "{'accuracy': [(1, 0.267), (2, 0.3652), (3, 0.396), (4, 0.41200000000000003), (5, 0.43339999999999995)]}"
      ]
     },
     "execution_count": 24,
     "metadata": {},
     "output_type": "execute_result"
    }
   ],
   "source": [
    "strategy = fl.server.strategy.FedAvg(\n",
    "    fraction_fit=1.0, # Sample 100% of the clients for training\n",
    "    fraction_evaluate=0.5, # Sample 50% of the clients for evaluation\n",
    "    min_fit_clients=10, # Never Sample less than 10 clients\n",
    "    min_evaluate_clients=5, # Never sample less than 5 clients for evaluation\n",
    "    min_available_clients=10, # Wait until all 10 clients are available\n",
    "    # Pass the metric aggregation function\n",
    "    evaluate_metrics_aggregation_fn=weighted_average,\n",
    ")\n",
    "\n",
    "client_resources = {\"num_cpus\": 1, \"num_gpus\": 0.0}\n",
    "if DEVICE.type == \"cuda\":\n",
    "  client_resources = {\"num_cpus\": 1, \"num_gpus\": 1.0}\n",
    "\n",
    "fl.simulation.start_simulation(\n",
    "    client_fn=client_fn, # How to call Clients?\n",
    "    num_clients=NUM_CLIENTS, # How many Clients should be there?\n",
    "    config=fl.server.ServerConfig(num_rounds=5), # How many rounds?\n",
    "    strategy=strategy, # How to use these clients?\n",
    "    client_resources=client_resources, # What hardware are we on?\n",
    ")"
   ]
  },
  {
   "cell_type": "markdown",
   "metadata": {
    "id": "kQwcFvnC9jjj"
   },
   "source": [
    "Congrats! You have just finished the most initial part of learning Flower.\n",
    "\n",
    "Now, We are focusing on Strategy:\n",
    "\n",
    "# Flower Strategies\n",
    "\n",
    "## Data Loading and FlowerClient Refine\n",
    "\n",
    "For this chapter, we use the CIFAR-10 training and test set, and we participate them into smaller datasets, to do this, ```load_datasets()``` is welcoming a new argument: ```num_clients: int```:"
   ]
  },
  {
   "cell_type": "code",
   "execution_count": 25,
   "metadata": {
    "ExecuteTime": {
     "end_time": "2024-03-06T21:45:11.443239Z",
     "start_time": "2024-03-06T21:45:09.919506Z"
    },
    "colab": {
     "base_uri": "https://localhost:8080/"
    },
    "id": "gKz4sA7v9A-G",
    "outputId": "559a5693-2a14-4bba-9438-1bb5d3a8ea14"
   },
   "outputs": [
    {
     "name": "stdout",
     "output_type": "stream",
     "text": [
      "Files already downloaded and verified\n",
      "Files already downloaded and verified\n"
     ]
    }
   ],
   "source": [
    "NUM_CLIENTS = 10 # Just to be sure\n",
    "\n",
    "def load_datasets(num_clients: int):\n",
    "  transform = transforms.Compose(\n",
    "      [transforms.ToTensor(), transforms.Normalize((0.5, 0.5, 0.5), (0.5, 0.5, 0.5))]\n",
    "  )\n",
    "  trainset = CIFAR10(\"./dataset\", train=True, download=True, transform=transform)\n",
    "  testset = CIFAR10(\"./dataset\", train=False, download=True,transform=transform)\n",
    "\n",
    "  # Partition the data to simulate different local clients\n",
    "  partition_size = len(trainset) // num_clients\n",
    "  lengths = [partition_size] * num_clients\n",
    "  datasets = random_split(trainset, lengths, torch.Generator().manual_seed(42))\n",
    "\n",
    "  trainloaders = []\n",
    "  valloaders = []\n",
    "  for ds in datasets:\n",
    "    len_val = len(ds) // 10 # 10% validation set\n",
    "    len_train = len(ds) - len_val\n",
    "    lengths = [len_train, len_val]\n",
    "    ds_train, ds_val = random_split(ds, lengths, torch.Generator().manual_seed(42))\n",
    "    trainloaders.append(DataLoader(ds_train, batch_size=32, shuffle=True))\n",
    "    valloaders.append(DataLoader(ds_val, batch_size=32))\n",
    "  testloader = DataLoader(testset, batch_size=32)\n",
    "  return trainloaders, valloaders, testloader\n",
    "\n",
    "trainloaders, valloaders, testloader = load_datasets(NUM_CLIENTS)"
   ]
  },
  {
   "cell_type": "markdown",
   "metadata": {
    "id": "0-Nh0PCLZbyR"
   },
   "source": [
    "Then we will need to define the model, especially ```set_parameters()``` and ```get_parameters()```:"
   ]
  },
  {
   "cell_type": "code",
   "execution_count": 26,
   "metadata": {
    "ExecuteTime": {
     "end_time": "2024-03-06T21:45:11.450801Z",
     "start_time": "2024-03-06T21:45:11.444188Z"
    },
    "id": "pQUqqqtcZkMA"
   },
   "outputs": [],
   "source": [
    "class Net(nn.Module):\n",
    "    def __init__(self) -> None:\n",
    "        super(Net, self).__init__()\n",
    "        self.conv1 = nn.Conv2d(3, 6, 5)\n",
    "        self.pool = nn.MaxPool2d(2, 2)\n",
    "        self.conv2 = nn.Conv2d(6, 16, 5)\n",
    "        self.fc1 = nn.Linear(16 * 5 * 5, 120)\n",
    "        self.fc2 = nn.Linear(120, 84)\n",
    "        self.fc3 = nn.Linear(84, 10)\n",
    "\n",
    "    def forward(self, x: torch.Tensor) -> torch.Tensor:\n",
    "        x = self.pool(F.relu(self.conv1(x)))\n",
    "        x = self.pool(F.relu(self.conv2(x)))\n",
    "        x = x.view(-1, 16 * 5 * 5)\n",
    "        x = F.relu(self.fc1(x))\n",
    "        x = F.relu(self.fc2(x))\n",
    "        x = self.fc3(x)\n",
    "        return x\n",
    "\n",
    "\n",
    "def get_parameters(net) -> List[np.ndarray]:\n",
    "    return [val.cpu().numpy() for _, val in net.state_dict().items()]\n",
    "\n",
    "def set_parameters(net, parameters: List[np.ndarray]):\n",
    "    params_dict = zip(net.state_dict().keys(), parameters)\n",
    "    state_dict = OrderedDict({k: torch.Tensor(v) for k, v in params_dict})\n",
    "    net.load_state_dict(state_dict, strict=True)\n",
    "\n",
    "\n",
    "def train(net, trainloader, epochs: int):\n",
    "    \"\"\"Train the network on the training set.\"\"\"\n",
    "    criterion = torch.nn.CrossEntropyLoss()\n",
    "    optimizer = torch.optim.Adam(net.parameters())\n",
    "    net.train()\n",
    "    for epoch in range(epochs):\n",
    "        correct, total, epoch_loss = 0, 0, 0.0\n",
    "        for images, labels in trainloader:\n",
    "            images, labels = images.to(DEVICE), labels.to(DEVICE)\n",
    "            optimizer.zero_grad()\n",
    "            outputs = net(images)\n",
    "            loss = criterion(net(images), labels)\n",
    "            loss.backward()\n",
    "            optimizer.step()\n",
    "            # Metrics\n",
    "            epoch_loss += loss\n",
    "            total += labels.size(0)\n",
    "            correct += (torch.max(outputs.data, 1)[1] == labels).sum().item()\n",
    "        epoch_loss /= len(trainloader.dataset)\n",
    "        epoch_acc = correct / total\n",
    "        print(f\"Epoch {epoch+1}: train loss {epoch_loss}, accuracy {epoch_acc}\")\n",
    "\n",
    "\n",
    "def test(net, testloader):\n",
    "    \"\"\"Evaluate the network on the entire test set.\"\"\"\n",
    "    criterion = torch.nn.CrossEntropyLoss()\n",
    "    correct, total, loss = 0, 0, 0.0\n",
    "    net.eval()\n",
    "    with torch.no_grad():\n",
    "        for images, labels in testloader:\n",
    "            images, labels = images.to(DEVICE), labels.to(DEVICE)\n",
    "            outputs = net(images)\n",
    "            loss += criterion(outputs, labels).item()\n",
    "            _, predicted = torch.max(outputs.data, 1)\n",
    "            total += labels.size(0)\n",
    "            correct += (predicted == labels).sum().item()\n",
    "    loss /= len(testloader.dataset)\n",
    "    accuracy = correct / total\n",
    "    return loss, accuracy"
   ]
  },
  {
   "cell_type": "markdown",
   "metadata": {
    "id": "J0OZpjDVaTkg"
   },
   "source": [
    "We have the data, model, now we need the client. Same as before, we create clients as subclass of ```flwr.client.NumPyClient``` and implement the three methods ```get_parameters()```, ```fit()```, and ```evaluate()```, and the client will also need an ID as ```cid``` argument:"
   ]
  },
  {
   "cell_type": "code",
   "execution_count": 27,
   "metadata": {
    "ExecuteTime": {
     "end_time": "2024-03-06T21:45:11.455231Z",
     "start_time": "2024-03-06T21:45:11.451636Z"
    },
    "id": "1dPaQIHFaS5Q"
   },
   "outputs": [],
   "source": [
    "class FlowerClient(fl.client.NumPyClient):\n",
    "    def __init__(self, cid, net, trainloader, valloader):\n",
    "        self.cikd = cid\n",
    "        self.net = net\n",
    "        self.trainloader = trainloader\n",
    "        self.valloader = valloader\n",
    "\n",
    "    def get_parameters(self, config):\n",
    "        print(f\"[Client {self.cid}] get_parameters\")\n",
    "        return get_parameters(self.net)\n",
    "\n",
    "    def fit(self, parameters, config):\n",
    "        print(f\"[Client {self.cid}] fit, config: {config}\")\n",
    "        set_parameters(self.net, parameters)\n",
    "        train(self.net, self.trainloader, epochs=1)\n",
    "        return get_parameters(self.net), len(self.trainloader), {}\n",
    "\n",
    "    def evaluate(self, parameters, config):\n",
    "        print(f\"[Client {self.cid}] evaluate, config: {config}\")\n",
    "        set_parameters(self.net, parameters)\n",
    "        loss, accuracy = test(self.net, self.valloader)\n",
    "        return float(loss), len(self.valloader), {\"accuracy\": float(accuracy)}\n",
    "\n",
    "\n",
    "def client_fn(cid) -> FlowerClient:\n",
    "    net = Net().to(DEVICE)\n",
    "    trainloader = trainloaders[int(cid)]\n",
    "    valloader = valloaders[int(cid)]\n",
    "    return FlowerClient(cid, net, trainloader, valloader)"
   ]
  },
  {
   "cell_type": "markdown",
   "metadata": {
    "id": "RlVgrowJ868Q"
   },
   "source": [
    "## Strategy Customization\n",
    "\n",
    "### Server-side Parameter Initialisation\n",
    "\n",
    "Flower, by default, initialise the Global Model by asking one random client for the initial parameters, though in real life we will want to control during parameter initialisation. Flower allows you to pass initial parameters to the ```strategy```:"
   ]
  },
  {
   "cell_type": "code",
   "execution_count": 28,
   "metadata": {
    "ExecuteTime": {
     "end_time": "2024-03-06T21:45:45.921113Z",
     "start_time": "2024-03-06T21:45:11.455826Z"
    },
    "colab": {
     "base_uri": "https://localhost:8080/"
    },
    "id": "fWO3WE4UX0TK",
    "outputId": "4bea0ee7-6cf8-45d4-bcb7-a31cf52dcb7c"
   },
   "outputs": [
    {
     "name": "stderr",
     "output_type": "stream",
     "text": [
      "WARNING flwr 2024-03-07 08:45:11,459 | fedavg.py:118 | \n",
      "Setting `min_available_clients` lower than `min_fit_clients` or\n",
      "`min_evaluate_clients` can cause the server to fail when there are too few clients\n",
      "connected to the server. `min_available_clients` must be set to a value larger\n",
      "than or equal to the values of `min_fit_clients` and `min_evaluate_clients`.\n",
      "\n",
      "INFO flwr 2024-03-07 08:45:11,459 | app.py:178 | Starting Flower simulation, config: ServerConfig(num_rounds=3, round_timeout=None)\n",
      "2024-03-07 08:45:15,057\tINFO worker.py:1621 -- Started a local Ray instance.\n",
      "INFO flwr 2024-03-07 08:45:15,781 | app.py:213 | Flower VCE: Ray initialized with resources: {'memory': 3567766734.0, 'node:__internal_head__': 1.0, 'object_store_memory': 1783883366.0, 'CPU': 8.0, 'node:127.0.0.1': 1.0}\n",
      "INFO flwr 2024-03-07 08:45:15,781 | app.py:219 | Optimize your simulation with Flower VCE: https://flower.dev/docs/framework/how-to-run-simulations.html\n",
      "INFO flwr 2024-03-07 08:45:15,781 | app.py:227 | No `client_resources` specified. Using minimal resources for clients.\n",
      "INFO flwr 2024-03-07 08:45:15,781 | app.py:242 | Flower VCE: Resources for each Virtual Client: {'num_cpus': 1, 'num_gpus': 0.0}\n",
      "INFO flwr 2024-03-07 08:45:15,790 | app.py:288 | Flower VCE: Creating VirtualClientEngineActorPool with 8 actors\n",
      "INFO flwr 2024-03-07 08:45:15,791 | server.py:89 | Initializing global parameters\n",
      "INFO flwr 2024-03-07 08:45:15,791 | server.py:272 | Using initial parameters provided by strategy\n",
      "INFO flwr 2024-03-07 08:45:15,792 | server.py:91 | Evaluating initial parameters\n",
      "INFO flwr 2024-03-07 08:45:15,792 | server.py:104 | FL starting\n",
      "DEBUG flwr 2024-03-07 08:45:15,792 | server.py:222 | fit_round 1: strategy sampled 3 clients (out of 10)\n"
     ]
    },
    {
     "name": "stdout",
     "output_type": "stream",
     "text": [
      "\u001B[2m\u001B[36m(DefaultActor pid=2273)\u001B[0m [Client 5] fit, config: {}\n"
     ]
    },
    {
     "name": "stderr",
     "output_type": "stream",
     "text": [
      "\u001B[2m\u001B[36m(DefaultActor pid=2273)\u001B[0m /Users/dongyi-guo/anaconda3/lib/python3.11/site-packages/flwr/simulation/ray_transport/ray_actor.py:72: DeprecationWarning:  Ensure your client is of type `flwr.client.Client`. Please convert it using the `.to_client()` method before returning it in the `client_fn` you pass to `start_simulation`. We have applied this conversion on your behalf. Not returning a `Client` might trigger an error in future versions of Flower.\n",
      "\u001B[2m\u001B[36m(DefaultActor pid=2273)\u001B[0m   client = check_clientfn_returns_client(client_fn(cid))\n"
     ]
    },
    {
     "name": "stdout",
     "output_type": "stream",
     "text": [
      "\u001B[2m\u001B[36m(DefaultActor pid=2273)\u001B[0m Epoch 1: train loss 0.0654463842511177, accuracy 0.23777777777777778\n"
     ]
    },
    {
     "name": "stderr",
     "output_type": "stream",
     "text": [
      "DEBUG flwr 2024-03-07 08:45:20,056 | server.py:236 | fit_round 1 received 3 results and 0 failures\n",
      "WARNING flwr 2024-03-07 08:45:20,060 | fedavg.py:250 | No fit_metrics_aggregation_fn provided\n",
      "DEBUG flwr 2024-03-07 08:45:20,060 | server.py:173 | evaluate_round 1: strategy sampled 10 clients (out of 10)\n"
     ]
    },
    {
     "name": "stdout",
     "output_type": "stream",
     "text": [
      "\u001B[2m\u001B[36m(DefaultActor pid=2271)\u001B[0m [Client 1] evaluate, config: {}\n"
     ]
    },
    {
     "name": "stderr",
     "output_type": "stream",
     "text": [
      "\u001B[2m\u001B[36m(DefaultActor pid=2270)\u001B[0m /Users/dongyi-guo/anaconda3/lib/python3.11/site-packages/flwr/simulation/ray_transport/ray_actor.py:72: DeprecationWarning:  Ensure your client is of type `flwr.client.Client`. Please convert it using the `.to_client()` method before returning it in the `client_fn` you pass to `start_simulation`. We have applied this conversion on your behalf. Not returning a `Client` might trigger an error in future versions of Flower.\u001B[32m [repeated 3x across cluster] (Ray deduplicates logs by default. Set RAY_DEDUP_LOGS=0 to disable log deduplication, or see https://docs.ray.io/en/master/ray-observability/ray-logging.html#log-deduplication for more options.)\u001B[0m\n",
      "\u001B[2m\u001B[36m(DefaultActor pid=2270)\u001B[0m   client = check_clientfn_returns_client(client_fn(cid))\u001B[32m [repeated 3x across cluster]\u001B[0m\n"
     ]
    },
    {
     "name": "stdout",
     "output_type": "stream",
     "text": [
      "\u001B[2m\u001B[36m(DefaultActor pid=2271)\u001B[0m [Client 7] fit, config: {}\u001B[32m [repeated 2x across cluster]\u001B[0m\n",
      "\u001B[2m\u001B[36m(DefaultActor pid=2271)\u001B[0m Epoch 1: train loss 0.06447713077068329, accuracy 0.22577777777777777\u001B[32m [repeated 2x across cluster]\u001B[0m\n"
     ]
    },
    {
     "name": "stderr",
     "output_type": "stream",
     "text": [
      "DEBUG flwr 2024-03-07 08:45:26,759 | server.py:187 | evaluate_round 1 received 10 results and 0 failures\n",
      "WARNING flwr 2024-03-07 08:45:26,760 | fedavg.py:281 | No evaluate_metrics_aggregation_fn provided\n",
      "DEBUG flwr 2024-03-07 08:45:26,760 | server.py:222 | fit_round 2: strategy sampled 3 clients (out of 10)\n"
     ]
    },
    {
     "name": "stdout",
     "output_type": "stream",
     "text": [
      "\u001B[2m\u001B[36m(DefaultActor pid=2273)\u001B[0m [Client 7] evaluate, config: {}\u001B[32m [repeated 8x across cluster]\u001B[0m\n",
      "\u001B[2m\u001B[36m(DefaultActor pid=2273)\u001B[0m [Client 7] fit, config: {}\u001B[32m [repeated 3x across cluster]\u001B[0m\n"
     ]
    },
    {
     "name": "stderr",
     "output_type": "stream",
     "text": [
      "DEBUG flwr 2024-03-07 08:45:29,999 | server.py:236 | fit_round 2 received 3 results and 0 failures\n",
      "DEBUG flwr 2024-03-07 08:45:30,005 | server.py:173 | evaluate_round 2: strategy sampled 10 clients (out of 10)\n"
     ]
    },
    {
     "name": "stdout",
     "output_type": "stream",
     "text": [
      "\u001B[2m\u001B[36m(DefaultActor pid=2273)\u001B[0m Epoch 1: train loss 0.05692368745803833, accuracy 0.33\u001B[32m [repeated 3x across cluster]\u001B[0m\n",
      "\u001B[2m\u001B[36m(DefaultActor pid=2268)\u001B[0m [Client 2] evaluate, config: {}\u001B[32m [repeated 3x across cluster]\u001B[0m\n"
     ]
    },
    {
     "name": "stderr",
     "output_type": "stream",
     "text": [
      "DEBUG flwr 2024-03-07 08:45:36,539 | server.py:187 | evaluate_round 2 received 10 results and 0 failures\n",
      "DEBUG flwr 2024-03-07 08:45:36,540 | server.py:222 | fit_round 3: strategy sampled 3 clients (out of 10)\n"
     ]
    },
    {
     "name": "stdout",
     "output_type": "stream",
     "text": [
      "\u001B[2m\u001B[36m(DefaultActor pid=2268)\u001B[0m [Client 6] evaluate, config: {}\u001B[32m [repeated 8x across cluster]\u001B[0m\n",
      "\u001B[2m\u001B[36m(DefaultActor pid=2268)\u001B[0m [Client 6] fit, config: {}\n",
      "\u001B[2m\u001B[36m(DefaultActor pid=2268)\u001B[0m Epoch 1: train loss 0.054362520575523376, accuracy 0.36088888888888887\n"
     ]
    },
    {
     "name": "stderr",
     "output_type": "stream",
     "text": [
      "DEBUG flwr 2024-03-07 08:45:39,768 | server.py:236 | fit_round 3 received 3 results and 0 failures\n",
      "DEBUG flwr 2024-03-07 08:45:39,771 | server.py:173 | evaluate_round 3: strategy sampled 10 clients (out of 10)\n"
     ]
    },
    {
     "name": "stdout",
     "output_type": "stream",
     "text": [
      "\u001B[2m\u001B[36m(DefaultActor pid=2268)\u001B[0m [Client 1] evaluate, config: {}\u001B[32m [repeated 3x across cluster]\u001B[0m\n",
      "\u001B[2m\u001B[36m(DefaultActor pid=2273)\u001B[0m [Client 1] fit, config: {}\u001B[32m [repeated 2x across cluster]\u001B[0m\n",
      "\u001B[2m\u001B[36m(DefaultActor pid=2273)\u001B[0m Epoch 1: train loss 0.053236182779073715, accuracy 0.37777777777777777\u001B[32m [repeated 2x across cluster]\u001B[0m\n"
     ]
    },
    {
     "name": "stderr",
     "output_type": "stream",
     "text": [
      "DEBUG flwr 2024-03-07 08:45:45,903 | server.py:187 | evaluate_round 3 received 10 results and 0 failures\n",
      "INFO flwr 2024-03-07 08:45:45,904 | server.py:153 | FL finished in 30.111354957999993\n",
      "INFO flwr 2024-03-07 08:45:45,904 | app.py:226 | app_fit: losses_distributed [(1, 0.06210236608982087), (2, 0.05580201442241669), (3, 0.052236721968650826)]\n",
      "INFO flwr 2024-03-07 08:45:45,904 | app.py:227 | app_fit: metrics_distributed_fit {}\n",
      "INFO flwr 2024-03-07 08:45:45,905 | app.py:228 | app_fit: metrics_distributed {}\n",
      "INFO flwr 2024-03-07 08:45:45,905 | app.py:229 | app_fit: losses_centralized []\n",
      "INFO flwr 2024-03-07 08:45:45,905 | app.py:230 | app_fit: metrics_centralized {}\n"
     ]
    },
    {
     "data": {
      "text/plain": [
       "History (loss, distributed):\n",
       "\tround 1: 0.06210236608982087\n",
       "\tround 2: 0.05580201442241669\n",
       "\tround 3: 0.052236721968650826"
      ]
     },
     "execution_count": 28,
     "metadata": {},
     "output_type": "execute_result"
    }
   ],
   "source": [
    "# Retrieve Parameters\n",
    "params = get_parameters(Net())\n",
    "\n",
    "# Apply Parameters\n",
    "strategy = fl.server.strategy.FedAvg(\n",
    "  fraction_fit=0.3,\n",
    "  fraction_evaluate=0.3,\n",
    "  min_fit_clients=3,\n",
    "  min_evaluate_clients=NUM_CLIENTS,\n",
    "  initial_parameters=fl.common.ndarrays_to_parameters(params),\n",
    ")\n",
    "\n",
    "# Prepare Resource\n",
    "client_resources = None\n",
    "if DEVICE.type == \"cuda\":\n",
    "  client_resources = {\"num_gpus\": 1}\n",
    "\n",
    "# Start Simulation\n",
    "fl.simulation.start_simulation(\n",
    "  client_fn=client_fn,\n",
    "  num_clients=NUM_CLIENTS,\n",
    "  config=fl.server.ServerConfig(num_rounds=3),\n",
    "  client_resources=client_resources,\n",
    "  strategy=strategy,\n",
    ")"
   ]
  },
  {
   "cell_type": "markdown",
   "metadata": {
    "collapsed": false,
    "id": "UcoJjLTrX0TK"
   },
   "source": [
    "By using ```initial_parameters``` parameter in ```FedAvg``` strategy will stop Flower from asking a client for initial parameters. You will notice during this simulation ```FlowerClient.get_parameters()``` is never used.\n",
    "\n",
    "Now, instead of ```FedAvg```, we try another Federated Learning Algorithm/Approach ```FedAdagrad```:"
   ]
  },
  {
   "cell_type": "code",
   "execution_count": 29,
   "metadata": {
    "ExecuteTime": {
     "end_time": "2024-03-06T21:46:05.779566Z",
     "start_time": "2024-03-06T21:45:45.927869Z"
    },
    "colab": {
     "base_uri": "https://localhost:8080/"
    },
    "id": "7tm40RsgX0TL",
    "outputId": "aca97298-ccd5-458b-a73e-2e62dc7a50c9"
   },
   "outputs": [
    {
     "name": "stderr",
     "output_type": "stream",
     "text": [
      "INFO flwr 2024-03-07 08:45:45,950 | app.py:178 | Starting Flower simulation, config: ServerConfig(num_rounds=3, round_timeout=None)\n",
      "2024-03-07 08:45:49,492\tINFO worker.py:1621 -- Started a local Ray instance.\n",
      "INFO flwr 2024-03-07 08:45:50,221 | app.py:213 | Flower VCE: Ray initialized with resources: {'memory': 3796421838.0, 'node:127.0.0.1': 1.0, 'CPU': 8.0, 'node:__internal_head__': 1.0, 'object_store_memory': 1898210918.0}\n",
      "INFO flwr 2024-03-07 08:45:50,221 | app.py:219 | Optimize your simulation with Flower VCE: https://flower.dev/docs/framework/how-to-run-simulations.html\n",
      "INFO flwr 2024-03-07 08:45:50,221 | app.py:227 | No `client_resources` specified. Using minimal resources for clients.\n",
      "INFO flwr 2024-03-07 08:45:50,222 | app.py:242 | Flower VCE: Resources for each Virtual Client: {'num_cpus': 1, 'num_gpus': 0.0}\n",
      "INFO flwr 2024-03-07 08:45:50,230 | app.py:288 | Flower VCE: Creating VirtualClientEngineActorPool with 8 actors\n",
      "INFO flwr 2024-03-07 08:45:50,231 | server.py:89 | Initializing global parameters\n",
      "INFO flwr 2024-03-07 08:45:50,231 | server.py:272 | Using initial parameters provided by strategy\n",
      "INFO flwr 2024-03-07 08:45:50,232 | server.py:91 | Evaluating initial parameters\n",
      "INFO flwr 2024-03-07 08:45:50,232 | server.py:104 | FL starting\n",
      "DEBUG flwr 2024-03-07 08:45:50,233 | server.py:222 | fit_round 1: strategy sampled 3 clients (out of 10)\n",
      "\u001B[2m\u001B[36m(DefaultActor pid=2318)\u001B[0m /Users/dongyi-guo/anaconda3/lib/python3.11/site-packages/flwr/simulation/ray_transport/ray_actor.py:72: DeprecationWarning:  Ensure your client is of type `flwr.client.Client`. Please convert it using the `.to_client()` method before returning it in the `client_fn` you pass to `start_simulation`. We have applied this conversion on your behalf. Not returning a `Client` might trigger an error in future versions of Flower.\n",
      "\u001B[2m\u001B[36m(DefaultActor pid=2318)\u001B[0m   client = check_clientfn_returns_client(client_fn(cid))\n"
     ]
    },
    {
     "name": "stdout",
     "output_type": "stream",
     "text": [
      "\u001B[2m\u001B[36m(DefaultActor pid=2318)\u001B[0m [Client 4] fit, config: {}\n",
      "\u001B[2m\u001B[36m(DefaultActor pid=2318)\u001B[0m Epoch 1: train loss 0.0648510530591011, accuracy 0.2117777777777778\n"
     ]
    },
    {
     "name": "stderr",
     "output_type": "stream",
     "text": [
      "DEBUG flwr 2024-03-07 08:45:54,324 | server.py:236 | fit_round 1 received 3 results and 0 failures\n",
      "WARNING flwr 2024-03-07 08:45:54,328 | fedavg.py:250 | No fit_metrics_aggregation_fn provided\n",
      "DEBUG flwr 2024-03-07 08:45:54,331 | server.py:173 | evaluate_round 1: strategy sampled 3 clients (out of 10)\n"
     ]
    },
    {
     "name": "stdout",
     "output_type": "stream",
     "text": [
      "\u001B[2m\u001B[36m(DefaultActor pid=2316)\u001B[0m [Client 9] evaluate, config: {}\n"
     ]
    },
    {
     "name": "stderr",
     "output_type": "stream",
     "text": [
      "DEBUG flwr 2024-03-07 08:45:56,053 | server.py:187 | evaluate_round 1 received 3 results and 0 failures\n",
      "WARNING flwr 2024-03-07 08:45:56,054 | fedavg.py:281 | No evaluate_metrics_aggregation_fn provided\n",
      "DEBUG flwr 2024-03-07 08:45:56,054 | server.py:222 | fit_round 2: strategy sampled 3 clients (out of 10)\n"
     ]
    },
    {
     "name": "stdout",
     "output_type": "stream",
     "text": [
      "\u001B[2m\u001B[36m(DefaultActor pid=2317)\u001B[0m [Client 0] fit, config: {}\u001B[32m [repeated 4x across cluster]\u001B[0m\n",
      "\u001B[2m\u001B[36m(DefaultActor pid=2317)\u001B[0m Epoch 1: train loss 0.7329019904136658, accuracy 0.28644444444444445\u001B[32m [repeated 4x across cluster]\u001B[0m\n"
     ]
    },
    {
     "name": "stderr",
     "output_type": "stream",
     "text": [
      "DEBUG flwr 2024-03-07 08:45:59,134 | server.py:236 | fit_round 2 received 3 results and 0 failures\n",
      "DEBUG flwr 2024-03-07 08:45:59,139 | server.py:173 | evaluate_round 2: strategy sampled 3 clients (out of 10)\n",
      "DEBUG flwr 2024-03-07 08:46:00,884 | server.py:187 | evaluate_round 2 received 3 results and 0 failures\n",
      "DEBUG flwr 2024-03-07 08:46:00,885 | server.py:222 | fit_round 3: strategy sampled 3 clients (out of 10)\n"
     ]
    },
    {
     "name": "stdout",
     "output_type": "stream",
     "text": [
      "\u001B[2m\u001B[36m(DefaultActor pid=2317)\u001B[0m [Client 2] evaluate, config: {}\u001B[32m [repeated 4x across cluster]\u001B[0m\n",
      "\u001B[2m\u001B[36m(DefaultActor pid=2318)\u001B[0m [Client 5] fit, config: {}\u001B[32m [repeated 4x across cluster]\u001B[0m\n"
     ]
    },
    {
     "name": "stderr",
     "output_type": "stream",
     "text": [
      "DEBUG flwr 2024-03-07 08:46:03,932 | server.py:236 | fit_round 3 received 3 results and 0 failures\n",
      "DEBUG flwr 2024-03-07 08:46:03,936 | server.py:173 | evaluate_round 3: strategy sampled 3 clients (out of 10)\n"
     ]
    },
    {
     "name": "stdout",
     "output_type": "stream",
     "text": [
      "\u001B[2m\u001B[36m(DefaultActor pid=2318)\u001B[0m Epoch 1: train loss 0.12872709333896637, accuracy 0.1371111111111111\u001B[32m [repeated 4x across cluster]\u001B[0m\n"
     ]
    },
    {
     "name": "stderr",
     "output_type": "stream",
     "text": [
      "DEBUG flwr 2024-03-07 08:46:05,768 | server.py:187 | evaluate_round 3 received 3 results and 0 failures\n",
      "INFO flwr 2024-03-07 08:46:05,768 | server.py:153 | FL finished in 15.53535974999977\n",
      "INFO flwr 2024-03-07 08:46:05,769 | app.py:226 | app_fit: losses_distributed [(1, 5.996933797200522), (2, 0.955174430847168), (3, 0.12940609057744346)]\n",
      "INFO flwr 2024-03-07 08:46:05,769 | app.py:227 | app_fit: metrics_distributed_fit {}\n",
      "INFO flwr 2024-03-07 08:46:05,769 | app.py:228 | app_fit: metrics_distributed {}\n",
      "INFO flwr 2024-03-07 08:46:05,769 | app.py:229 | app_fit: losses_centralized []\n",
      "INFO flwr 2024-03-07 08:46:05,769 | app.py:230 | app_fit: metrics_centralized {}\n"
     ]
    },
    {
     "data": {
      "text/plain": [
       "History (loss, distributed):\n",
       "\tround 1: 5.996933797200522\n",
       "\tround 2: 0.955174430847168\n",
       "\tround 3: 0.12940609057744346"
      ]
     },
     "execution_count": 29,
     "metadata": {},
     "output_type": "execute_result"
    }
   ],
   "source": [
    "# FedAdam Strategy\n",
    "strategy = fl.server.strategy.FedAdagrad(\n",
    "  fraction_fit=0.3,\n",
    "  fraction_evaluate=0.3,\n",
    "  min_fit_clients=3,\n",
    "  min_evaluate_clients=3,\n",
    "  min_available_clients=NUM_CLIENTS,\n",
    "  initial_parameters=fl.common.ndarrays_to_parameters(get_parameters(Net())),\n",
    ")\n",
    "\n",
    "# Simulation\n",
    "fl.simulation.start_simulation(\n",
    "  client_fn=client_fn,\n",
    "  num_clients=NUM_CLIENTS,\n",
    "  config=fl.server.ServerConfig(num_rounds=3),\n",
    "  client_resources=client_resources,\n",
    "  strategy=strategy,\n",
    ")"
   ]
  },
  {
   "cell_type": "markdown",
   "metadata": {
    "collapsed": false,
    "id": "76TdRl7IX0TL"
   },
   "source": [
    "## Server-side Parameter Evaluation\n",
    "\n",
    "The aggregated model can be evaluated via Parameter evaluation, it has server-side evaluation and client-side evaluation, and Flower supports both:\n",
    "\n",
    "* Centralised Evaluation, or Server-side Evaluation is what centralised machine does as well. If there is a server-side dataset for evaluation purpose \\(just like ```testloader```\\), then it can evaluate the newly aggregated model after each round of training without the needs to send the model to clients.\n",
    "\n",
    "* Federated Evaluation, or Client-side Evaluation, does not require a centralised dataset so we can evaluate with huge amount of data, but that's how life normally is, Federated Evaluation is actually more required in real life as we want to get representative evaluation results. However, the cost is our evaluation dataset can change over thru rounds as clients may not be available, data are held by clients, and they can change as well. The evaluation result can be not stable and fluctuate a lot.\n",
    "\n",
    "What we did before is actually client-side evaluation, for server-side evaluation it is something like this:"
   ]
  },
  {
   "cell_type": "code",
   "execution_count": 30,
   "metadata": {
    "ExecuteTime": {
     "end_time": "2024-03-06T21:46:25.828335Z",
     "start_time": "2024-03-06T21:46:05.781338Z"
    },
    "colab": {
     "base_uri": "https://localhost:8080/"
    },
    "id": "k6QZ9RWRX0TL",
    "outputId": "40890cd5-8b43-429b-9bc3-fc6b2620b5b7"
   },
   "outputs": [
    {
     "name": "stderr",
     "output_type": "stream",
     "text": [
      "INFO flwr 2024-03-07 08:46:05,787 | app.py:178 | Starting Flower simulation, config: ServerConfig(num_rounds=3, round_timeout=None)\n",
      "2024-03-07 08:46:09,294\tINFO worker.py:1621 -- Started a local Ray instance.\n",
      "INFO flwr 2024-03-07 08:46:10,025 | app.py:213 | Flower VCE: Ray initialized with resources: {'memory': 3467378688.0, 'node:127.0.0.1': 1.0, 'CPU': 8.0, 'object_store_memory': 1733689344.0, 'node:__internal_head__': 1.0}\n",
      "INFO flwr 2024-03-07 08:46:10,026 | app.py:219 | Optimize your simulation with Flower VCE: https://flower.dev/docs/framework/how-to-run-simulations.html\n",
      "INFO flwr 2024-03-07 08:46:10,026 | app.py:227 | No `client_resources` specified. Using minimal resources for clients.\n",
      "INFO flwr 2024-03-07 08:46:10,026 | app.py:242 | Flower VCE: Resources for each Virtual Client: {'num_cpus': 1, 'num_gpus': 0.0}\n",
      "INFO flwr 2024-03-07 08:46:10,033 | app.py:288 | Flower VCE: Creating VirtualClientEngineActorPool with 8 actors\n",
      "INFO flwr 2024-03-07 08:46:10,034 | server.py:89 | Initializing global parameters\n",
      "INFO flwr 2024-03-07 08:46:10,034 | server.py:272 | Using initial parameters provided by strategy\n",
      "INFO flwr 2024-03-07 08:46:10,034 | server.py:91 | Evaluating initial parameters\n",
      "INFO flwr 2024-03-07 08:46:10,258 | server.py:94 | initial parameters (loss, other metrics): 0.07361245393753052, {'accuracy': 0.136}\n",
      "INFO flwr 2024-03-07 08:46:10,259 | server.py:104 | FL starting\n",
      "DEBUG flwr 2024-03-07 08:46:10,259 | server.py:222 | fit_round 1: strategy sampled 3 clients (out of 10)\n"
     ]
    },
    {
     "name": "stdout",
     "output_type": "stream",
     "text": [
      "Server-side evaluation loss 0.07361245393753052 / accuracy 0.136\n",
      "\u001B[2m\u001B[36m(DefaultActor pid=2344)\u001B[0m [Client 6] fit, config: {}\n"
     ]
    },
    {
     "name": "stderr",
     "output_type": "stream",
     "text": [
      "\u001B[2m\u001B[36m(DefaultActor pid=2344)\u001B[0m /Users/dongyi-guo/anaconda3/lib/python3.11/site-packages/flwr/simulation/ray_transport/ray_actor.py:72: DeprecationWarning:  Ensure your client is of type `flwr.client.Client`. Please convert it using the `.to_client()` method before returning it in the `client_fn` you pass to `start_simulation`. We have applied this conversion on your behalf. Not returning a `Client` might trigger an error in future versions of Flower.\n",
      "\u001B[2m\u001B[36m(DefaultActor pid=2344)\u001B[0m   client = check_clientfn_returns_client(client_fn(cid))\n"
     ]
    },
    {
     "name": "stdout",
     "output_type": "stream",
     "text": [
      "\u001B[2m\u001B[36m(DefaultActor pid=2344)\u001B[0m Epoch 1: train loss 0.06663354486227036, accuracy 0.20555555555555555\n"
     ]
    },
    {
     "name": "stderr",
     "output_type": "stream",
     "text": [
      "DEBUG flwr 2024-03-07 08:46:14,141 | server.py:236 | fit_round 1 received 3 results and 0 failures\n",
      "WARNING flwr 2024-03-07 08:46:14,145 | fedavg.py:250 | No fit_metrics_aggregation_fn provided\n",
      "INFO flwr 2024-03-07 08:46:14,197 | server.py:125 | fit progress: (1, 0.06515954303741454, {'accuracy': 0.266}, 3.937658708000072)\n",
      "DEBUG flwr 2024-03-07 08:46:14,197 | server.py:173 | evaluate_round 1: strategy sampled 3 clients (out of 10)\n"
     ]
    },
    {
     "name": "stdout",
     "output_type": "stream",
     "text": [
      "Server-side evaluation loss 0.06515954303741454 / accuracy 0.266\n",
      "\u001B[2m\u001B[36m(DefaultActor pid=2342)\u001B[0m [Client 1] evaluate, config: {}\n"
     ]
    },
    {
     "name": "stderr",
     "output_type": "stream",
     "text": [
      "DEBUG flwr 2024-03-07 08:46:15,971 | server.py:187 | evaluate_round 1 received 3 results and 0 failures\n",
      "WARNING flwr 2024-03-07 08:46:15,971 | fedavg.py:281 | No evaluate_metrics_aggregation_fn provided\n",
      "DEBUG flwr 2024-03-07 08:46:15,971 | server.py:222 | fit_round 2: strategy sampled 3 clients (out of 10)\n"
     ]
    },
    {
     "name": "stdout",
     "output_type": "stream",
     "text": [
      "\u001B[2m\u001B[36m(DefaultActor pid=2343)\u001B[0m [Client 1] fit, config: {}\u001B[32m [repeated 4x across cluster]\u001B[0m\n",
      "\u001B[2m\u001B[36m(DefaultActor pid=2343)\u001B[0m Epoch 1: train loss 0.05942900851368904, accuracy 0.31733333333333336\u001B[32m [repeated 4x across cluster]\u001B[0m\n"
     ]
    },
    {
     "name": "stderr",
     "output_type": "stream",
     "text": [
      "DEBUG flwr 2024-03-07 08:46:19,094 | server.py:236 | fit_round 2 received 3 results and 0 failures\n",
      "INFO flwr 2024-03-07 08:46:19,153 | server.py:125 | fit progress: (2, 0.05736999177932739, {'accuracy': 0.332}, 8.893885167000008)\n",
      "DEBUG flwr 2024-03-07 08:46:19,153 | server.py:173 | evaluate_round 2: strategy sampled 3 clients (out of 10)\n"
     ]
    },
    {
     "name": "stdout",
     "output_type": "stream",
     "text": [
      "Server-side evaluation loss 0.05736999177932739 / accuracy 0.332\n"
     ]
    },
    {
     "name": "stderr",
     "output_type": "stream",
     "text": [
      "DEBUG flwr 2024-03-07 08:46:20,947 | server.py:187 | evaluate_round 2 received 3 results and 0 failures\n",
      "DEBUG flwr 2024-03-07 08:46:20,948 | server.py:222 | fit_round 3: strategy sampled 3 clients (out of 10)\n"
     ]
    },
    {
     "name": "stdout",
     "output_type": "stream",
     "text": [
      "\u001B[2m\u001B[36m(DefaultActor pid=2343)\u001B[0m [Client 3] evaluate, config: {}\u001B[32m [repeated 4x across cluster]\u001B[0m\n",
      "\u001B[2m\u001B[36m(DefaultActor pid=2342)\u001B[0m [Client 2] fit, config: {}\u001B[32m [repeated 4x across cluster]\u001B[0m\n"
     ]
    },
    {
     "name": "stderr",
     "output_type": "stream",
     "text": [
      "DEBUG flwr 2024-03-07 08:46:23,974 | server.py:236 | fit_round 3 received 3 results and 0 failures\n",
      "INFO flwr 2024-03-07 08:46:24,030 | server.py:125 | fit progress: (3, 0.05316749763488769, {'accuracy': 0.394}, 13.769937458000186)\n",
      "DEBUG flwr 2024-03-07 08:46:24,030 | server.py:173 | evaluate_round 3: strategy sampled 3 clients (out of 10)\n"
     ]
    },
    {
     "name": "stdout",
     "output_type": "stream",
     "text": [
      "\u001B[2m\u001B[36m(DefaultActor pid=2342)\u001B[0m Epoch 1: train loss 0.055303774774074554, accuracy 0.34955555555555556\u001B[32m [repeated 4x across cluster]\u001B[0m\n",
      "Server-side evaluation loss 0.05316749763488769 / accuracy 0.394\n"
     ]
    },
    {
     "name": "stderr",
     "output_type": "stream",
     "text": [
      "DEBUG flwr 2024-03-07 08:46:25,817 | server.py:187 | evaluate_round 3 received 3 results and 0 failures\n",
      "INFO flwr 2024-03-07 08:46:25,818 | server.py:153 | FL finished in 15.556964000000335\n",
      "INFO flwr 2024-03-07 08:46:25,818 | app.py:226 | app_fit: losses_distributed [(1, 0.06535085693995159), (2, 0.05699444301923116), (3, 0.05218830227851867)]\n",
      "INFO flwr 2024-03-07 08:46:25,818 | app.py:227 | app_fit: metrics_distributed_fit {}\n",
      "INFO flwr 2024-03-07 08:46:25,818 | app.py:228 | app_fit: metrics_distributed {}\n",
      "INFO flwr 2024-03-07 08:46:25,818 | app.py:229 | app_fit: losses_centralized [(0, 0.07361245393753052), (1, 0.06515954303741454), (2, 0.05736999177932739), (3, 0.05316749763488769)]\n",
      "INFO flwr 2024-03-07 08:46:25,819 | app.py:230 | app_fit: metrics_centralized {'accuracy': [(0, 0.136), (1, 0.266), (2, 0.332), (3, 0.394)]}\n"
     ]
    },
    {
     "data": {
      "text/plain": [
       "History (loss, distributed):\n",
       "\tround 1: 0.06535085693995159\n",
       "\tround 2: 0.05699444301923116\n",
       "\tround 3: 0.05218830227851867\n",
       "History (loss, centralized):\n",
       "\tround 0: 0.07361245393753052\n",
       "\tround 1: 0.06515954303741454\n",
       "\tround 2: 0.05736999177932739\n",
       "\tround 3: 0.05316749763488769\n",
       "History (metrics, centralized):\n",
       "{'accuracy': [(0, 0.136), (1, 0.266), (2, 0.332), (3, 0.394)]}"
      ]
     },
     "execution_count": 30,
     "metadata": {},
     "output_type": "execute_result"
    }
   ],
   "source": [
    "# The `evaluate` function will be by Flower called after every round\n",
    "def evaluate(\n",
    "    server_round: int,\n",
    "    parameters: fl.common.NDArrays,\n",
    "    config: Dict[str, fl.common.Scalar],\n",
    ") -> Optional[Tuple[float, Dict[str, fl.common.Scalar]]]:\n",
    "    net = Net().to(DEVICE)\n",
    "    valloader = valloaders[0]\n",
    "    set_parameters(net, parameters)  # Update model with the latest parameters\n",
    "    loss, accuracy = test(net, valloader)\n",
    "    print(f\"Server-side evaluation loss {loss} / accuracy {accuracy}\")\n",
    "    return loss, {\"accuracy\": accuracy}\n",
    "\n",
    "strategy = fl.server.strategy.FedAvg(\n",
    "    fraction_fit=0.3,\n",
    "    fraction_evaluate=0.3,\n",
    "    min_fit_clients=3,\n",
    "    min_evaluate_clients=3,\n",
    "    min_available_clients=NUM_CLIENTS,\n",
    "    initial_parameters=fl.common.ndarrays_to_parameters(get_parameters(Net())),\n",
    "    evaluate_fn=evaluate,  # Pass the evaluation function\n",
    ")\n",
    "\n",
    "fl.simulation.start_simulation(\n",
    "    client_fn=client_fn,\n",
    "    num_clients=NUM_CLIENTS,\n",
    "    config=fl.server.ServerConfig(num_rounds=3),  # Just three rounds\n",
    "    strategy=strategy,\n",
    "    client_resources=client_resources,\n",
    ")"
   ]
  },
  {
   "cell_type": "markdown",
   "metadata": {
    "collapsed": false,
    "id": "mmAs3lJMX0TL"
   },
   "source": [
    "## Passing Arbitrary Values between clients and server\n",
    "\n",
    "In some situations, we want to configure client-side training/evaluation from the server side, such as server may ask clients to train certain amount of epochs. Flower manages this with dictionary thru ```config``` parameter and this applies for both ```fit()``` and ```evaluate()```."
   ]
  },
  {
   "cell_type": "code",
   "execution_count": 31,
   "metadata": {
    "ExecuteTime": {
     "end_time": "2024-03-06T21:46:25.834646Z",
     "start_time": "2024-03-06T21:46:25.829901Z"
    },
    "colab": {
     "base_uri": "https://localhost:8080/"
    },
    "id": "ttDATOjWX0TL",
    "outputId": "b6398296-36fa-44d4-cf79-eabf542d98ba"
   },
   "outputs": [],
   "source": [
    "class FlowerClient(fl.client.NumPyClient):\n",
    "    def __init__(self, cid, net, trainloader, valloader):\n",
    "        self.cid = cid\n",
    "        self.net = net\n",
    "        self.trainloader = trainloader\n",
    "        self.valloader = valloader\n",
    "\n",
    "    def get_parameters(self, config):\n",
    "        print(f\"[Client {self.cid}] get_parameters\")\n",
    "        return get_parameters(self.net)\n",
    "\n",
    "    def fit(self, parameters, config):\n",
    "        # Read values from config\n",
    "        server_round = config[\"server_round\"]\n",
    "        local_epochs = config[\"local_epochs\"]\n",
    "\n",
    "        # Use values provided by the config\n",
    "        print(f\"[Client {self.cid}, round {server_round}] fit, config: {config}\")\n",
    "        set_parameters(self.net, parameters)\n",
    "        train(self.net, self.trainloader, epochs=local_epochs)\n",
    "        return get_parameters(self.net), len(self.trainloader), {}\n",
    "\n",
    "    def evaluate(self, parameters, config):\n",
    "        print(f\"[Client {self.cid}] evaluate, config: {config}\")\n",
    "        set_parameters(self.net, parameters)\n",
    "        loss, accuracy = test(self.net, self.valloader)\n",
    "        return float(loss), len(self.valloader), {\"accuracy\": float(accuracy)}\n",
    "\n",
    "\n",
    "def client_fn(cid) -> FlowerClient:\n",
    "    net = Net().to(DEVICE)\n",
    "    trainloader = trainloaders[int(cid)]\n",
    "    valloader = valloaders[int(cid)]\n",
    "    return FlowerClient(cid, net, trainloader, valloader)"
   ]
  },
  {
   "cell_type": "markdown",
   "metadata": {
    "collapsed": false,
    "id": "FR3wCEkYX0TL"
   },
   "source": [
    "How Flower pass these configs from server to clients is by using  Flower Strategy parameters to pass the function, which will run the function every round:"
   ]
  },
  {
   "cell_type": "code",
   "execution_count": 32,
   "metadata": {
    "ExecuteTime": {
     "end_time": "2024-03-06T21:46:49.176142Z",
     "start_time": "2024-03-06T21:46:25.835630Z"
    },
    "colab": {
     "base_uri": "https://localhost:8080/"
    },
    "id": "wMuS6ETIX0TL",
    "outputId": "0975ec42-da42-48a6-a90b-b1999ac2fff1"
   },
   "outputs": [
    {
     "name": "stderr",
     "output_type": "stream",
     "text": [
      "INFO flwr 2024-03-07 08:46:25,839 | app.py:178 | Starting Flower simulation, config: ServerConfig(num_rounds=3, round_timeout=None)\n",
      "2024-03-07 08:46:29,267\tINFO worker.py:1621 -- Started a local Ray instance.\n",
      "INFO flwr 2024-03-07 08:46:29,987 | app.py:213 | Flower VCE: Ray initialized with resources: {'node:127.0.0.1': 1.0, 'node:__internal_head__': 1.0, 'CPU': 8.0, 'object_store_memory': 1790223974.0, 'memory': 3580447950.0}\n",
      "INFO flwr 2024-03-07 08:46:29,988 | app.py:219 | Optimize your simulation with Flower VCE: https://flower.dev/docs/framework/how-to-run-simulations.html\n",
      "INFO flwr 2024-03-07 08:46:29,988 | app.py:227 | No `client_resources` specified. Using minimal resources for clients.\n",
      "INFO flwr 2024-03-07 08:46:29,988 | app.py:242 | Flower VCE: Resources for each Virtual Client: {'num_cpus': 1, 'num_gpus': 0.0}\n",
      "INFO flwr 2024-03-07 08:46:29,995 | app.py:288 | Flower VCE: Creating VirtualClientEngineActorPool with 8 actors\n",
      "INFO flwr 2024-03-07 08:46:29,995 | server.py:89 | Initializing global parameters\n",
      "INFO flwr 2024-03-07 08:46:29,996 | server.py:272 | Using initial parameters provided by strategy\n",
      "INFO flwr 2024-03-07 08:46:29,996 | server.py:91 | Evaluating initial parameters\n",
      "INFO flwr 2024-03-07 08:46:30,211 | server.py:94 | initial parameters (loss, other metrics): 0.07376702404022217, {'accuracy': 0.102}\n",
      "INFO flwr 2024-03-07 08:46:30,212 | server.py:104 | FL starting\n",
      "DEBUG flwr 2024-03-07 08:46:30,213 | server.py:222 | fit_round 1: strategy sampled 3 clients (out of 10)\n"
     ]
    },
    {
     "name": "stdout",
     "output_type": "stream",
     "text": [
      "Server-side evaluation loss 0.07376702404022217 / accuracy 0.102\n"
     ]
    },
    {
     "name": "stderr",
     "output_type": "stream",
     "text": [
      "\u001B[2m\u001B[36m(DefaultActor pid=2370)\u001B[0m /Users/dongyi-guo/anaconda3/lib/python3.11/site-packages/flwr/simulation/ray_transport/ray_actor.py:72: DeprecationWarning:  Ensure your client is of type `flwr.client.Client`. Please convert it using the `.to_client()` method before returning it in the `client_fn` you pass to `start_simulation`. We have applied this conversion on your behalf. Not returning a `Client` might trigger an error in future versions of Flower.\n",
      "\u001B[2m\u001B[36m(DefaultActor pid=2370)\u001B[0m   client = check_clientfn_returns_client(client_fn(cid))\n"
     ]
    },
    {
     "name": "stdout",
     "output_type": "stream",
     "text": [
      "\u001B[2m\u001B[36m(DefaultActor pid=2370)\u001B[0m [Client 5, round 1] fit, config: {'server_round': 1, 'local_epochs': 1}\n",
      "\u001B[2m\u001B[36m(DefaultActor pid=2370)\u001B[0m Epoch 1: train loss 0.06474903225898743, accuracy 0.2268888888888889\n"
     ]
    },
    {
     "name": "stderr",
     "output_type": "stream",
     "text": [
      "DEBUG flwr 2024-03-07 08:46:34,234 | server.py:236 | fit_round 1 received 3 results and 0 failures\n",
      "WARNING flwr 2024-03-07 08:46:34,236 | fedavg.py:250 | No fit_metrics_aggregation_fn provided\n",
      "INFO flwr 2024-03-07 08:46:34,291 | server.py:125 | fit progress: (1, 0.06383465814590454, {'accuracy': 0.278}, 4.077897374999793)\n",
      "DEBUG flwr 2024-03-07 08:46:34,292 | server.py:173 | evaluate_round 1: strategy sampled 3 clients (out of 10)\n"
     ]
    },
    {
     "name": "stdout",
     "output_type": "stream",
     "text": [
      "Server-side evaluation loss 0.06383465814590454 / accuracy 0.278\n",
      "\u001B[2m\u001B[36m(DefaultActor pid=2368)\u001B[0m [Client 3] evaluate, config: {}\n"
     ]
    },
    {
     "name": "stderr",
     "output_type": "stream",
     "text": [
      "DEBUG flwr 2024-03-07 08:46:36,157 | server.py:187 | evaluate_round 1 received 3 results and 0 failures\n",
      "WARNING flwr 2024-03-07 08:46:36,158 | fedavg.py:281 | No evaluate_metrics_aggregation_fn provided\n",
      "DEBUG flwr 2024-03-07 08:46:36,158 | server.py:222 | fit_round 2: strategy sampled 3 clients (out of 10)\n"
     ]
    },
    {
     "name": "stdout",
     "output_type": "stream",
     "text": [
      "\u001B[2m\u001B[36m(DefaultActor pid=2370)\u001B[0m [Client 8, round 2] fit, config: {'server_round': 2, 'local_epochs': 2}\u001B[32m [repeated 3x across cluster]\u001B[0m\n",
      "\u001B[2m\u001B[36m(DefaultActor pid=2369)\u001B[0m Epoch 1: train loss 0.057412318885326385, accuracy 0.31733333333333336\u001B[32m [repeated 4x across cluster]\u001B[0m\n"
     ]
    },
    {
     "name": "stderr",
     "output_type": "stream",
     "text": [
      "DEBUG flwr 2024-03-07 08:46:40,914 | server.py:236 | fit_round 2 received 3 results and 0 failures\n",
      "INFO flwr 2024-03-07 08:46:40,975 | server.py:125 | fit progress: (2, 0.053095781803131105, {'accuracy': 0.386}, 10.76002970899981)\n",
      "DEBUG flwr 2024-03-07 08:46:40,975 | server.py:173 | evaluate_round 2: strategy sampled 3 clients (out of 10)\n"
     ]
    },
    {
     "name": "stdout",
     "output_type": "stream",
     "text": [
      "\u001B[2m\u001B[36m(DefaultActor pid=2370)\u001B[0m [Client 1] evaluate, config: {}\u001B[32m [repeated 2x across cluster]\u001B[0m\n",
      "Server-side evaluation loss 0.053095781803131105 / accuracy 0.386\n"
     ]
    },
    {
     "name": "stderr",
     "output_type": "stream",
     "text": [
      "DEBUG flwr 2024-03-07 08:46:42,762 | server.py:187 | evaluate_round 2 received 3 results and 0 failures\n",
      "DEBUG flwr 2024-03-07 08:46:42,763 | server.py:222 | fit_round 3: strategy sampled 3 clients (out of 10)\n"
     ]
    },
    {
     "name": "stdout",
     "output_type": "stream",
     "text": [
      "\u001B[2m\u001B[36m(DefaultActor pid=2368)\u001B[0m [Client 7, round 2] fit, config: {'server_round': 2, 'local_epochs': 2}\u001B[32m [repeated 2x across cluster]\u001B[0m\n",
      "\u001B[2m\u001B[36m(DefaultActor pid=2368)\u001B[0m Epoch 2: train loss 0.05139633268117905, accuracy 0.3928888888888889\u001B[32m [repeated 4x across cluster]\u001B[0m\n",
      "\u001B[2m\u001B[36m(DefaultActor pid=2370)\u001B[0m [Client 4] evaluate, config: {}\u001B[32m [repeated 3x across cluster]\u001B[0m\n"
     ]
    },
    {
     "name": "stderr",
     "output_type": "stream",
     "text": [
      "DEBUG flwr 2024-03-07 08:46:47,248 | server.py:236 | fit_round 3 received 3 results and 0 failures\n",
      "INFO flwr 2024-03-07 08:46:47,306 | server.py:125 | fit progress: (3, 0.050381979465484616, {'accuracy': 0.434}, 17.09064654199983)\n",
      "DEBUG flwr 2024-03-07 08:46:47,307 | server.py:173 | evaluate_round 3: strategy sampled 3 clients (out of 10)\n"
     ]
    },
    {
     "name": "stdout",
     "output_type": "stream",
     "text": [
      "Server-side evaluation loss 0.050381979465484616 / accuracy 0.434\n",
      "\u001B[2m\u001B[36m(DefaultActor pid=2368)\u001B[0m [Client 5, round 3] fit, config: {'server_round': 3, 'local_epochs': 2}\u001B[32m [repeated 3x across cluster]\u001B[0m\n"
     ]
    },
    {
     "name": "stderr",
     "output_type": "stream",
     "text": [
      "DEBUG flwr 2024-03-07 08:46:49,163 | server.py:187 | evaluate_round 3 received 3 results and 0 failures\n",
      "INFO flwr 2024-03-07 08:46:49,164 | server.py:153 | FL finished in 18.947794166999756\n",
      "INFO flwr 2024-03-07 08:46:49,164 | app.py:226 | app_fit: losses_distributed [(1, 0.06381062920888265), (2, 0.05217403880755106), (3, 0.049814772605896)]\n",
      "INFO flwr 2024-03-07 08:46:49,164 | app.py:227 | app_fit: metrics_distributed_fit {}\n",
      "INFO flwr 2024-03-07 08:46:49,164 | app.py:228 | app_fit: metrics_distributed {}\n",
      "INFO flwr 2024-03-07 08:46:49,165 | app.py:229 | app_fit: losses_centralized [(0, 0.07376702404022217), (1, 0.06383465814590454), (2, 0.053095781803131105), (3, 0.050381979465484616)]\n",
      "INFO flwr 2024-03-07 08:46:49,165 | app.py:230 | app_fit: metrics_centralized {'accuracy': [(0, 0.102), (1, 0.278), (2, 0.386), (3, 0.434)]}\n"
     ]
    },
    {
     "name": "stdout",
     "output_type": "stream",
     "text": [
      "\u001B[2m\u001B[36m(DefaultActor pid=2368)\u001B[0m Epoch 2: train loss 0.04901917651295662, accuracy 0.43133333333333335\u001B[32m [repeated 6x across cluster]\u001B[0m\n"
     ]
    },
    {
     "data": {
      "text/plain": [
       "History (loss, distributed):\n",
       "\tround 1: 0.06381062920888265\n",
       "\tround 2: 0.05217403880755106\n",
       "\tround 3: 0.049814772605896\n",
       "History (loss, centralized):\n",
       "\tround 0: 0.07376702404022217\n",
       "\tround 1: 0.06383465814590454\n",
       "\tround 2: 0.053095781803131105\n",
       "\tround 3: 0.050381979465484616\n",
       "History (metrics, centralized):\n",
       "{'accuracy': [(0, 0.102), (1, 0.278), (2, 0.386), (3, 0.434)]}"
      ]
     },
     "execution_count": 32,
     "metadata": {},
     "output_type": "execute_result"
    }
   ],
   "source": [
    "def fit_config(server_round: int):\n",
    "    \"\"\"Return training configuration dict for each round.\n",
    "\n",
    "    Perform two rounds of training with one local epoch, increase to two local\n",
    "    epochs afterwards.\n",
    "    \"\"\"\n",
    "    return {\n",
    "        \"server_round\": server_round,  # The current round of federated learning\n",
    "        \"local_epochs\": 1 if server_round < 2 else 2,  #\n",
    "    }\n",
    "\n",
    "strategy = fl.server.strategy.FedAvg(\n",
    "    fraction_fit=0.3,\n",
    "    fraction_evaluate=0.3,\n",
    "    min_fit_clients=3,\n",
    "    min_evaluate_clients=3,\n",
    "    min_available_clients=NUM_CLIENTS,\n",
    "    initial_parameters=fl.common.ndarrays_to_parameters(get_parameters(Net())),\n",
    "    evaluate_fn=evaluate,\n",
    "    on_fit_config_fn=fit_config,  # Pass the fit_config function\n",
    ")\n",
    "\n",
    "fl.simulation.start_simulation(\n",
    "    client_fn=client_fn,\n",
    "    num_clients=NUM_CLIENTS,\n",
    "    config=fl.server.ServerConfig(num_rounds=3),  # Just three rounds\n",
    "    strategy=strategy,\n",
    "    client_resources=client_resources,\n",
    ")"
   ]
  },
  {
   "cell_type": "markdown",
   "metadata": {
    "id": "TfLeYiNFX_45"
   },
   "source": [
    "As shown in the output \\(if provided\\), client logs now will include the current round of Federated Learning \\(from the config dictionary\\). We can configure local training to run one epoch during the first and second round, but 2 epochs onwards.\n",
    "\n",
    "Clients also return arbitrary values to server, to do this they will return a dictionary from ```fit``` and/or ```evaluate```, and ```FlowerClient``` returns a dictionary containing a custom key/value pair as the third return value in ```evaluate```.\n",
    "\n",
    "## Scaling Federated Learning\n",
    "\n",
    "Now, let's try 1000 clients instead of 10:"
   ]
  },
  {
   "cell_type": "code",
   "execution_count": 33,
   "metadata": {
    "ExecuteTime": {
     "end_time": "2024-03-06T21:46:50.757170Z",
     "start_time": "2024-03-06T21:46:49.177969Z"
    },
    "colab": {
     "base_uri": "https://localhost:8080/"
    },
    "id": "CvB_QbG8m2DP",
    "outputId": "8b5a2293-17c5-43b8-da5a-1875c0e22705"
   },
   "outputs": [
    {
     "name": "stdout",
     "output_type": "stream",
     "text": [
      "Files already downloaded and verified\n",
      "Files already downloaded and verified\n"
     ]
    }
   ],
   "source": [
    "NUM_CLIENTS = 1000\n",
    "trainloaders, valloaders, testloader = load_datasets(NUM_CLIENTS)"
   ]
  },
  {
   "cell_type": "markdown",
   "metadata": {
    "id": "bFYwQ9HqnU6x"
   },
   "source": [
    "Now, there will be 1000 partitions with each of them holding 45 training and 5 validation examples. As the training example is very samll on each client, longer trains are required. So, besides configuring each clients to perform 3 local training epochs. We should also adjust the fraction of clients for training in each round \\(Don't let all 1000 clients participating\\), by changing ```fraction_fit``` to 0.05, each round there will only 5% of the clients \\(50 clients\\) participating."
   ]
  },
  {
   "cell_type": "code",
   "execution_count": 34,
   "metadata": {
    "ExecuteTime": {
     "end_time": "2024-03-06T21:49:09.962424Z",
     "start_time": "2024-03-06T21:46:50.758976Z"
    },
    "colab": {
     "base_uri": "https://localhost:8080/"
    },
    "id": "iSWQVRLgsBgw",
    "outputId": "a61e51bb-7e50-49ce-dd79-9eebd03d3403"
   },
   "outputs": [
    {
     "name": "stderr",
     "output_type": "stream",
     "text": [
      "INFO flwr 2024-03-07 08:46:50,765 | app.py:178 | Starting Flower simulation, config: ServerConfig(num_rounds=3, round_timeout=None)\n",
      "2024-03-07 08:46:54,467\tINFO worker.py:1621 -- Started a local Ray instance.\n",
      "INFO flwr 2024-03-07 08:46:55,178 | app.py:213 | Flower VCE: Ray initialized with resources: {'memory': 3639204251.0, 'node:127.0.0.1': 1.0, 'CPU': 8.0, 'object_store_memory': 1819602124.0, 'node:__internal_head__': 1.0}\n",
      "INFO flwr 2024-03-07 08:46:55,178 | app.py:219 | Optimize your simulation with Flower VCE: https://flower.dev/docs/framework/how-to-run-simulations.html\n",
      "INFO flwr 2024-03-07 08:46:55,178 | app.py:227 | No `client_resources` specified. Using minimal resources for clients.\n",
      "INFO flwr 2024-03-07 08:46:55,178 | app.py:242 | Flower VCE: Resources for each Virtual Client: {'num_cpus': 1, 'num_gpus': 0.0}\n",
      "INFO flwr 2024-03-07 08:46:55,189 | app.py:288 | Flower VCE: Creating VirtualClientEngineActorPool with 8 actors\n",
      "INFO flwr 2024-03-07 08:46:55,191 | server.py:89 | Initializing global parameters\n",
      "INFO flwr 2024-03-07 08:46:55,192 | server.py:272 | Using initial parameters provided by strategy\n",
      "INFO flwr 2024-03-07 08:46:55,192 | server.py:91 | Evaluating initial parameters\n",
      "INFO flwr 2024-03-07 08:46:55,193 | server.py:104 | FL starting\n",
      "DEBUG flwr 2024-03-07 08:46:55,194 | server.py:222 | fit_round 1: strategy sampled 25 clients (out of 1000)\n"
     ]
    },
    {
     "name": "stdout",
     "output_type": "stream",
     "text": [
      "\u001B[2m\u001B[36m(DefaultActor pid=2436)\u001B[0m [Client 114, round 1] fit, config: {'server_round': 1, 'local_epochs': 3}\n",
      "\u001B[2m\u001B[36m(DefaultActor pid=2436)\u001B[0m Epoch 1: train loss 0.10248001664876938, accuracy 0.13333333333333333\n",
      "\u001B[2m\u001B[36m(DefaultActor pid=2436)\u001B[0m Epoch 2: train loss 0.10175775736570358, accuracy 0.13333333333333333\n",
      "\u001B[2m\u001B[36m(DefaultActor pid=2436)\u001B[0m Epoch 3: train loss 0.10122597962617874, accuracy 0.13333333333333333\n"
     ]
    },
    {
     "name": "stderr",
     "output_type": "stream",
     "text": [
      "\u001B[2m\u001B[36m(DefaultActor pid=2436)\u001B[0m /Users/dongyi-guo/anaconda3/lib/python3.11/site-packages/flwr/simulation/ray_transport/ray_actor.py:72: DeprecationWarning:  Ensure your client is of type `flwr.client.Client`. Please convert it using the `.to_client()` method before returning it in the `client_fn` you pass to `start_simulation`. We have applied this conversion on your behalf. Not returning a `Client` might trigger an error in future versions of Flower.\n",
      "\u001B[2m\u001B[36m(DefaultActor pid=2436)\u001B[0m   client = check_clientfn_returns_client(client_fn(cid))\n"
     ]
    },
    {
     "name": "stdout",
     "output_type": "stream",
     "text": [
      "\u001B[2m\u001B[36m(DefaultActor pid=2435)\u001B[0m [Client 704, round 1] fit, config: {'server_round': 1, 'local_epochs': 3}\u001B[32m [repeated 10x across cluster]\u001B[0m\n",
      "\u001B[2m\u001B[36m(DefaultActor pid=2435)\u001B[0m Epoch 3: train loss 0.10206349939107895, accuracy 0.1111111111111111\u001B[32m [repeated 30x across cluster]\u001B[0m\n",
      "\u001B[2m\u001B[36m(DefaultActor pid=2432)\u001B[0m [Client 608, round 1] fit, config: {'server_round': 1, 'local_epochs': 3}\u001B[32m [repeated 8x across cluster]\u001B[0m\n",
      "\u001B[2m\u001B[36m(DefaultActor pid=2432)\u001B[0m Epoch 2: train loss 0.10183107852935791, accuracy 0.13333333333333333\u001B[32m [repeated 23x across cluster]\u001B[0m\n"
     ]
    },
    {
     "name": "stderr",
     "output_type": "stream",
     "text": [
      "DEBUG flwr 2024-03-07 08:47:11,117 | server.py:236 | fit_round 1 received 25 results and 0 failures\n",
      "WARNING flwr 2024-03-07 08:47:11,136 | fedavg.py:250 | No fit_metrics_aggregation_fn provided\n",
      "DEBUG flwr 2024-03-07 08:47:11,137 | server.py:173 | evaluate_round 1: strategy sampled 50 clients (out of 1000)\n"
     ]
    },
    {
     "name": "stdout",
     "output_type": "stream",
     "text": [
      "\u001B[2m\u001B[36m(DefaultActor pid=2433)\u001B[0m [Client 955] evaluate, config: {}\n",
      "\u001B[2m\u001B[36m(DefaultActor pid=2433)\u001B[0m [Client 886, round 1] fit, config: {'server_round': 1, 'local_epochs': 3}\u001B[32m [repeated 6x across cluster]\u001B[0m\n",
      "\u001B[2m\u001B[36m(DefaultActor pid=2433)\u001B[0m Epoch 3: train loss 0.10136780142784119, accuracy 0.17777777777777778\u001B[32m [repeated 19x across cluster]\u001B[0m\n",
      "\u001B[2m\u001B[36m(DefaultActor pid=2433)\u001B[0m [Client 860] evaluate, config: {}\u001B[32m [repeated 9x across cluster]\u001B[0m\n",
      "\u001B[2m\u001B[36m(DefaultActor pid=2433)\u001B[0m [Client 461] evaluate, config: {}\u001B[32m [repeated 9x across cluster]\u001B[0m\n",
      "\u001B[2m\u001B[36m(DefaultActor pid=2436)\u001B[0m [Client 376] evaluate, config: {}\u001B[32m [repeated 9x across cluster]\u001B[0m\n",
      "\u001B[2m\u001B[36m(DefaultActor pid=2433)\u001B[0m [Client 433] evaluate, config: {}\u001B[32m [repeated 9x across cluster]\u001B[0m\n",
      "\u001B[2m\u001B[36m(DefaultActor pid=2435)\u001B[0m [Client 361] evaluate, config: {}\u001B[32m [repeated 9x across cluster]\u001B[0m\n"
     ]
    },
    {
     "name": "stderr",
     "output_type": "stream",
     "text": [
      "DEBUG flwr 2024-03-07 08:47:40,462 | server.py:187 | evaluate_round 1 received 50 results and 0 failures\n",
      "WARNING flwr 2024-03-07 08:47:40,463 | fedavg.py:281 | No evaluate_metrics_aggregation_fn provided\n",
      "DEBUG flwr 2024-03-07 08:47:40,464 | server.py:222 | fit_round 2: strategy sampled 25 clients (out of 1000)\n"
     ]
    },
    {
     "name": "stdout",
     "output_type": "stream",
     "text": [
      "\u001B[2m\u001B[36m(DefaultActor pid=2429)\u001B[0m [Client 320, round 2] fit, config: {'server_round': 2, 'local_epochs': 3}\n",
      "\u001B[2m\u001B[36m(DefaultActor pid=2429)\u001B[0m Epoch 1: train loss 0.1022394597530365, accuracy 0.06666666666666667\n",
      "\u001B[2m\u001B[36m(DefaultActor pid=2429)\u001B[0m Epoch 2: train loss 0.10047142952680588, accuracy 0.2\n",
      "\u001B[2m\u001B[36m(DefaultActor pid=2429)\u001B[0m Epoch 3: train loss 0.09991146624088287, accuracy 0.28888888888888886\n",
      "\u001B[2m\u001B[36m(DefaultActor pid=2429)\u001B[0m [Client 27] evaluate, config: {}\u001B[32m [repeated 4x across cluster]\u001B[0m\n",
      "\u001B[2m\u001B[36m(DefaultActor pid=2429)\u001B[0m [Client 453, round 2] fit, config: {'server_round': 2, 'local_epochs': 3}\u001B[32m [repeated 8x across cluster]\u001B[0m\n",
      "\u001B[2m\u001B[36m(DefaultActor pid=2435)\u001B[0m Epoch 3: train loss 0.10050839185714722, accuracy 0.2\u001B[32m [repeated 21x across cluster]\u001B[0m\n",
      "\u001B[2m\u001B[36m(DefaultActor pid=2435)\u001B[0m [Client 235, round 2] fit, config: {'server_round': 2, 'local_epochs': 3}\u001B[32m [repeated 9x across cluster]\u001B[0m\n",
      "\u001B[2m\u001B[36m(DefaultActor pid=2435)\u001B[0m Epoch 1: train loss 0.10225632786750793, accuracy 0.13333333333333333\u001B[32m [repeated 28x across cluster]\u001B[0m\n"
     ]
    },
    {
     "name": "stderr",
     "output_type": "stream",
     "text": [
      "DEBUG flwr 2024-03-07 08:47:56,007 | server.py:236 | fit_round 2 received 25 results and 0 failures\n",
      "DEBUG flwr 2024-03-07 08:47:56,035 | server.py:173 | evaluate_round 2: strategy sampled 50 clients (out of 1000)\n"
     ]
    },
    {
     "name": "stdout",
     "output_type": "stream",
     "text": [
      "\u001B[2m\u001B[36m(DefaultActor pid=2436)\u001B[0m [Client 427] evaluate, config: {}\n",
      "\u001B[2m\u001B[36m(DefaultActor pid=2436)\u001B[0m [Client 66, round 2] fit, config: {'server_round': 2, 'local_epochs': 3}\u001B[32m [repeated 7x across cluster]\u001B[0m\n",
      "\u001B[2m\u001B[36m(DefaultActor pid=2436)\u001B[0m Epoch 3: train loss 0.09816129505634308, accuracy 0.28888888888888886\u001B[32m [repeated 23x across cluster]\u001B[0m\n",
      "\u001B[2m\u001B[36m(DefaultActor pid=2436)\u001B[0m [Client 475] evaluate, config: {}\u001B[32m [repeated 9x across cluster]\u001B[0m\n",
      "\u001B[2m\u001B[36m(DefaultActor pid=2430)\u001B[0m [Client 615] evaluate, config: {}\u001B[32m [repeated 9x across cluster]\u001B[0m\n",
      "\u001B[2m\u001B[36m(DefaultActor pid=2429)\u001B[0m [Client 510] evaluate, config: {}\u001B[32m [repeated 9x across cluster]\u001B[0m\n",
      "\u001B[2m\u001B[36m(DefaultActor pid=2434)\u001B[0m [Client 215] evaluate, config: {}\u001B[32m [repeated 9x across cluster]\u001B[0m\n",
      "\u001B[2m\u001B[36m(DefaultActor pid=2433)\u001B[0m [Client 241] evaluate, config: {}\u001B[32m [repeated 9x across cluster]\u001B[0m\n"
     ]
    },
    {
     "name": "stderr",
     "output_type": "stream",
     "text": [
      "DEBUG flwr 2024-03-07 08:48:25,814 | server.py:187 | evaluate_round 2 received 50 results and 0 failures\n",
      "DEBUG flwr 2024-03-07 08:48:25,819 | server.py:222 | fit_round 3: strategy sampled 25 clients (out of 1000)\n"
     ]
    },
    {
     "name": "stdout",
     "output_type": "stream",
     "text": [
      "\u001B[2m\u001B[36m(DefaultActor pid=2433)\u001B[0m [Client 967, round 3] fit, config: {'server_round': 3, 'local_epochs': 3}\n",
      "\u001B[2m\u001B[36m(DefaultActor pid=2433)\u001B[0m Epoch 1: train loss 0.10147730261087418, accuracy 0.17777777777777778\n",
      "\u001B[2m\u001B[36m(DefaultActor pid=2433)\u001B[0m Epoch 2: train loss 0.0995800644159317, accuracy 0.2222222222222222\n",
      "\u001B[2m\u001B[36m(DefaultActor pid=2433)\u001B[0m Epoch 3: train loss 0.098160021007061, accuracy 0.2\n",
      "\u001B[2m\u001B[36m(DefaultActor pid=2433)\u001B[0m [Client 147] evaluate, config: {}\u001B[32m [repeated 4x across cluster]\u001B[0m\n",
      "\u001B[2m\u001B[36m(DefaultActor pid=2431)\u001B[0m [Client 285, round 3] fit, config: {'server_round': 3, 'local_epochs': 3}\u001B[32m [repeated 9x across cluster]\u001B[0m\n",
      "\u001B[2m\u001B[36m(DefaultActor pid=2431)\u001B[0m Epoch 3: train loss 0.09899654239416122, accuracy 0.35555555555555557\u001B[32m [repeated 27x across cluster]\u001B[0m\n",
      "\u001B[2m\u001B[36m(DefaultActor pid=2434)\u001B[0m [Client 282, round 3] fit, config: {'server_round': 3, 'local_epochs': 3}\u001B[32m [repeated 9x across cluster]\u001B[0m\n",
      "\u001B[2m\u001B[36m(DefaultActor pid=2434)\u001B[0m Epoch 3: train loss 0.0979173481464386, accuracy 0.24444444444444444\u001B[32m [repeated 27x across cluster]\u001B[0m\n"
     ]
    },
    {
     "name": "stderr",
     "output_type": "stream",
     "text": [
      "DEBUG flwr 2024-03-07 08:48:40,561 | server.py:236 | fit_round 3 received 25 results and 0 failures\n",
      "DEBUG flwr 2024-03-07 08:48:40,588 | server.py:173 | evaluate_round 3: strategy sampled 50 clients (out of 1000)\n"
     ]
    },
    {
     "name": "stdout",
     "output_type": "stream",
     "text": [
      "\u001B[2m\u001B[36m(DefaultActor pid=2432)\u001B[0m [Client 187] evaluate, config: {}\n",
      "\u001B[2m\u001B[36m(DefaultActor pid=2432)\u001B[0m [Client 838, round 3] fit, config: {'server_round': 3, 'local_epochs': 3}\u001B[32m [repeated 6x across cluster]\u001B[0m\n",
      "\u001B[2m\u001B[36m(DefaultActor pid=2432)\u001B[0m Epoch 3: train loss 0.0957510843873024, accuracy 0.24444444444444444\u001B[32m [repeated 18x across cluster]\u001B[0m\n",
      "\u001B[2m\u001B[36m(DefaultActor pid=2434)\u001B[0m [Client 734] evaluate, config: {}\u001B[32m [repeated 9x across cluster]\u001B[0m\n",
      "\u001B[2m\u001B[36m(DefaultActor pid=2435)\u001B[0m [Client 611] evaluate, config: {}\u001B[32m [repeated 9x across cluster]\u001B[0m\n",
      "\u001B[2m\u001B[36m(DefaultActor pid=2434)\u001B[0m [Client 58] evaluate, config: {}\u001B[32m [repeated 9x across cluster]\u001B[0m\n",
      "\u001B[2m\u001B[36m(DefaultActor pid=2434)\u001B[0m [Client 431] evaluate, config: {}\u001B[32m [repeated 9x across cluster]\u001B[0m\n",
      "\u001B[2m\u001B[36m(DefaultActor pid=2429)\u001B[0m [Client 109] evaluate, config: {}\u001B[32m [repeated 9x across cluster]\u001B[0m\n"
     ]
    },
    {
     "name": "stderr",
     "output_type": "stream",
     "text": [
      "DEBUG flwr 2024-03-07 08:49:09,916 | server.py:187 | evaluate_round 3 received 50 results and 0 failures\n",
      "INFO flwr 2024-03-07 08:49:09,917 | server.py:153 | FL finished in 134.72101945899976\n",
      "INFO flwr 2024-03-07 08:49:09,920 | app.py:226 | app_fit: losses_distributed [(1, 0.460263768196106), (2, 0.4583662090301513), (3, 0.4510866155624389)]\n",
      "INFO flwr 2024-03-07 08:49:09,920 | app.py:227 | app_fit: metrics_distributed_fit {}\n",
      "INFO flwr 2024-03-07 08:49:09,920 | app.py:228 | app_fit: metrics_distributed {}\n",
      "INFO flwr 2024-03-07 08:49:09,920 | app.py:229 | app_fit: losses_centralized []\n",
      "INFO flwr 2024-03-07 08:49:09,920 | app.py:230 | app_fit: metrics_centralized {}\n"
     ]
    },
    {
     "data": {
      "text/plain": [
       "History (loss, distributed):\n",
       "\tround 1: 0.460263768196106\n",
       "\tround 2: 0.4583662090301513\n",
       "\tround 3: 0.4510866155624389"
      ]
     },
     "execution_count": 34,
     "metadata": {},
     "output_type": "execute_result"
    }
   ],
   "source": [
    "def fit_config(server_round: int):\n",
    "    config = {\n",
    "        \"server_round\": server_round,\n",
    "        \"local_epochs\": 3,\n",
    "    }\n",
    "    return config\n",
    "\n",
    "\n",
    "strategy = fl.server.strategy.FedAvg(\n",
    "    fraction_fit=0.025,  # Train on 25 clients (each round)\n",
    "    fraction_evaluate=0.05,  # Evaluate on 50 clients (each round)\n",
    "    min_fit_clients=20,\n",
    "    min_evaluate_clients=40,\n",
    "    min_available_clients=NUM_CLIENTS,\n",
    "    initial_parameters=fl.common.ndarrays_to_parameters(get_parameters(Net())),\n",
    "    on_fit_config_fn=fit_config,\n",
    ")\n",
    "\n",
    "fl.simulation.start_simulation(\n",
    "    client_fn=client_fn,\n",
    "    num_clients=NUM_CLIENTS,\n",
    "    config=fl.server.ServerConfig(num_rounds=3),  # Just three rounds\n",
    "    strategy=strategy,\n",
    "    client_resources=client_resources,\n",
    ")"
   ]
  },
  {
   "cell_type": "markdown",
   "metadata": {
    "id": "xIF9a-tUeIVr"
   },
   "source": [
    "# Strategy from Scratch\n",
    "\n",
    "Now in this chapter, instead of using different Federated Algorithm, we are building one from the scratch, we use the same data \\(CIFAR10\\) and model ```Net``` as before, For Client, make sure we re-implement the client we use before we want to set arbitary value.\n",
    "\n",
    "To see if everything is sane, let's run a small test:"
   ]
  },
  {
   "cell_type": "code",
   "execution_count": 35,
   "metadata": {
    "ExecuteTime": {
     "end_time": "2024-03-06T21:49:23.772223Z",
     "start_time": "2024-03-06T21:49:09.970791Z"
    },
    "colab": {
     "base_uri": "https://localhost:8080/"
    },
    "id": "NhXX_aGSfA5J",
    "outputId": "ec2ef91b-d5bd-4684-ad5f-100fde724fb2"
   },
   "outputs": [
    {
     "name": "stderr",
     "output_type": "stream",
     "text": [
      "INFO flwr 2024-03-07 08:49:09,982 | app.py:178 | Starting Flower simulation, config: ServerConfig(num_rounds=3, round_timeout=None)\n",
      "2024-03-07 08:49:13,601\tINFO worker.py:1621 -- Started a local Ray instance.\n",
      "INFO flwr 2024-03-07 08:49:14,324 | app.py:213 | Flower VCE: Ray initialized with resources: {'memory': 3786876519.0, 'node:127.0.0.1': 1.0, 'object_store_memory': 1893438259.0, 'CPU': 8.0, 'node:__internal_head__': 1.0}\n",
      "INFO flwr 2024-03-07 08:49:14,325 | app.py:219 | Optimize your simulation with Flower VCE: https://flower.dev/docs/framework/how-to-run-simulations.html\n",
      "INFO flwr 2024-03-07 08:49:14,325 | app.py:227 | No `client_resources` specified. Using minimal resources for clients.\n",
      "INFO flwr 2024-03-07 08:49:14,325 | app.py:242 | Flower VCE: Resources for each Virtual Client: {'num_cpus': 1, 'num_gpus': 0.0}\n",
      "INFO flwr 2024-03-07 08:49:14,333 | app.py:288 | Flower VCE: Creating VirtualClientEngineActorPool with 8 actors\n",
      "INFO flwr 2024-03-07 08:49:14,333 | server.py:89 | Initializing global parameters\n",
      "INFO flwr 2024-03-07 08:49:14,333 | server.py:276 | Requesting initial parameters from one random client\n",
      "INFO flwr 2024-03-07 08:49:16,235 | server.py:280 | Received initial parameters from one random client\n",
      "INFO flwr 2024-03-07 08:49:16,235 | server.py:91 | Evaluating initial parameters\n",
      "INFO flwr 2024-03-07 08:49:16,236 | server.py:104 | FL starting\n",
      "DEBUG flwr 2024-03-07 08:49:16,236 | server.py:222 | fit_round 1: strategy sampled 2 clients (out of 2)\n",
      "\u001B[2m\u001B[36m(DefaultActor pid=2479)\u001B[0m /Users/dongyi-guo/anaconda3/lib/python3.11/site-packages/flwr/simulation/ray_transport/ray_actor.py:72: DeprecationWarning:  Ensure your client is of type `flwr.client.Client`. Please convert it using the `.to_client()` method before returning it in the `client_fn` you pass to `start_simulation`. We have applied this conversion on your behalf. Not returning a `Client` might trigger an error in future versions of Flower.\n",
      "\u001B[2m\u001B[36m(DefaultActor pid=2479)\u001B[0m   client = check_clientfn_returns_client(client_fn(cid))\n"
     ]
    },
    {
     "name": "stdout",
     "output_type": "stream",
     "text": [
      "\u001B[2m\u001B[36m(DefaultActor pid=2479)\u001B[0m [Client 1] get_parameters\n",
      "\u001B[2m\u001B[36m(DefaultActor pid=2479)\u001B[0m [Client 1] fit, config: {}\n",
      "\u001B[2m\u001B[36m(DefaultActor pid=2479)\u001B[0m Epoch 1: train loss 0.10261167585849762, accuracy 0.06666666666666667\n"
     ]
    },
    {
     "name": "stderr",
     "output_type": "stream",
     "text": [
      "DEBUG flwr 2024-03-07 08:49:17,958 | server.py:236 | fit_round 1 received 2 results and 0 failures\n",
      "WARNING flwr 2024-03-07 08:49:17,960 | fedavg.py:250 | No fit_metrics_aggregation_fn provided\n",
      "DEBUG flwr 2024-03-07 08:49:17,960 | server.py:173 | evaluate_round 1: strategy sampled 2 clients (out of 2)\n",
      "DEBUG flwr 2024-03-07 08:49:19,102 | server.py:187 | evaluate_round 1 received 2 results and 0 failures\n",
      "WARNING flwr 2024-03-07 08:49:19,103 | fedavg.py:281 | No evaluate_metrics_aggregation_fn provided\n",
      "DEBUG flwr 2024-03-07 08:49:19,103 | server.py:222 | fit_round 2: strategy sampled 2 clients (out of 2)\n"
     ]
    },
    {
     "name": "stdout",
     "output_type": "stream",
     "text": [
      "\u001B[2m\u001B[36m(DefaultActor pid=2478)\u001B[0m [Client 0] evaluate, config: {}\n"
     ]
    },
    {
     "name": "stderr",
     "output_type": "stream",
     "text": [
      "DEBUG flwr 2024-03-07 08:49:20,261 | server.py:236 | fit_round 2 received 2 results and 0 failures\n",
      "DEBUG flwr 2024-03-07 08:49:20,264 | server.py:173 | evaluate_round 2: strategy sampled 2 clients (out of 2)\n",
      "DEBUG flwr 2024-03-07 08:49:21,442 | server.py:187 | evaluate_round 2 received 2 results and 0 failures\n",
      "DEBUG flwr 2024-03-07 08:49:21,442 | server.py:222 | fit_round 3: strategy sampled 2 clients (out of 2)\n",
      "DEBUG flwr 2024-03-07 08:49:22,629 | server.py:236 | fit_round 3 received 2 results and 0 failures\n",
      "DEBUG flwr 2024-03-07 08:49:22,631 | server.py:173 | evaluate_round 3: strategy sampled 2 clients (out of 2)\n"
     ]
    },
    {
     "name": "stdout",
     "output_type": "stream",
     "text": [
      "\u001B[2m\u001B[36m(DefaultActor pid=2479)\u001B[0m [Client 1] fit, config: {}\u001B[32m [repeated 4x across cluster]\u001B[0m\n",
      "\u001B[2m\u001B[36m(DefaultActor pid=2479)\u001B[0m Epoch 1: train loss 0.10148903727531433, accuracy 0.06666666666666667\u001B[32m [repeated 4x across cluster]\u001B[0m\n"
     ]
    },
    {
     "name": "stderr",
     "output_type": "stream",
     "text": [
      "DEBUG flwr 2024-03-07 08:49:23,763 | server.py:187 | evaluate_round 3 received 2 results and 0 failures\n",
      "INFO flwr 2024-03-07 08:49:23,763 | server.py:153 | FL finished in 7.5275897080000505\n",
      "INFO flwr 2024-03-07 08:49:23,764 | app.py:226 | app_fit: losses_distributed [(1, 0.46360485553741454), (2, 0.4619494915008545), (3, 0.46031770706176756)]\n",
      "INFO flwr 2024-03-07 08:49:23,764 | app.py:227 | app_fit: metrics_distributed_fit {}\n",
      "INFO flwr 2024-03-07 08:49:23,764 | app.py:228 | app_fit: metrics_distributed {}\n",
      "INFO flwr 2024-03-07 08:49:23,764 | app.py:229 | app_fit: losses_centralized []\n",
      "INFO flwr 2024-03-07 08:49:23,764 | app.py:230 | app_fit: metrics_centralized {}\n"
     ]
    },
    {
     "data": {
      "text/plain": [
       "History (loss, distributed):\n",
       "\tround 1: 0.46360485553741454\n",
       "\tround 2: 0.4619494915008545\n",
       "\tround 3: 0.46031770706176756"
      ]
     },
     "execution_count": 35,
     "metadata": {},
     "output_type": "execute_result"
    }
   ],
   "source": [
    "# Reset the FlowerClient\n",
    "class FlowerClient(fl.client.NumPyClient):\n",
    "    def __init__(self, cid, net, trainloader, valloader):\n",
    "        self.cid = cid\n",
    "        self.net = net\n",
    "        self.trainloader = trainloader\n",
    "        self.valloader = valloader\n",
    "\n",
    "    def get_parameters(self, config):\n",
    "        print(f\"[Client {self.cid}] get_parameters\")\n",
    "        return get_parameters(self.net)\n",
    "\n",
    "    def fit(self, parameters, config):\n",
    "        print(f\"[Client {self.cid}] fit, config: {config}\")\n",
    "        set_parameters(self.net, parameters)\n",
    "        train(self.net, self.trainloader, epochs=1)\n",
    "        return get_parameters(self.net), len(self.trainloader), {}\n",
    "\n",
    "    def evaluate(self, parameters, config):\n",
    "        print(f\"[Client {self.cid}] evaluate, config: {config}\")\n",
    "        set_parameters(self.net, parameters)\n",
    "        loss, accuracy = test(self.net, self.valloader)\n",
    "        return float(loss), len(self.valloader), {\"accuracy\": float(accuracy)}\n",
    "\n",
    "\n",
    "def client_fn(cid) -> FlowerClient:\n",
    "    net = Net().to(DEVICE)\n",
    "    trainloader = trainloaders[int(cid)]\n",
    "    valloader = valloaders[int(cid)]\n",
    "    return FlowerClient(cid, net, trainloader, valloader)\n",
    "\n",
    "# Specify client resources if you need GPU (defaults to 1 CPU and 0 GPU)\n",
    "client_resources = None\n",
    "if DEVICE.type == \"cuda\":\n",
    "    client_resources = {\"num_gpus\": 1}\n",
    "\n",
    "fl.simulation.start_simulation(\n",
    "    client_fn=client_fn,\n",
    "    num_clients=2,\n",
    "    config=fl.server.ServerConfig(num_rounds=3),\n",
    "    client_resources=client_resources,\n",
    ")"
   ]
  },
  {
   "cell_type": "markdown",
   "metadata": {
    "id": "WabaMDM1kP4G"
   },
   "source": [
    "Now, we overwrite the ```configure_fit()```function so it passes a higher learning rate or other parameters to the optimiser of a fraction of the clients. We will keep the sampling of the clients as it is in FedAvg the nchange the config dictionary as ```FitIns``` attributes."
   ]
  },
  {
   "cell_type": "code",
   "execution_count": 36,
   "metadata": {
    "ExecuteTime": {
     "end_time": "2024-03-06T21:49:23.788368Z",
     "start_time": "2024-03-06T21:49:23.773969Z"
    },
    "id": "Z4UKJStRkueP"
   },
   "outputs": [],
   "source": [
    "from typing import Callable, Union\n",
    "\n",
    "from flwr.common import (\n",
    "    EvaluateIns,\n",
    "    EvaluateRes,\n",
    "    FitIns,\n",
    "    FitRes,\n",
    "    MetricsAggregationFn,\n",
    "    NDArrays,\n",
    "    Parameters,\n",
    "    Scalar,\n",
    "    ndarrays_to_parameters,\n",
    "    parameters_to_ndarrays,\n",
    ")\n",
    "from flwr.server.client_manager import ClientManager\n",
    "from flwr.server.client_proxy import ClientProxy\n",
    "from flwr.server.strategy.aggregate import aggregate, weighted_loss_avg\n",
    "\n",
    "\n",
    "class FedCustom(fl.server.strategy.Strategy):\n",
    "    def __init__(\n",
    "        self,\n",
    "        fraction_fit: float = 1.0,\n",
    "        fraction_evaluate: float = 1.0,\n",
    "        min_fit_clients: int = 2,\n",
    "        min_evaluate_clients: int = 2,\n",
    "        min_available_clients: int = 2,\n",
    "    ) -> None:\n",
    "        super().__init__()\n",
    "        self.fraction_fit = fraction_fit\n",
    "        self.fraction_evaluate = fraction_evaluate\n",
    "        self.min_fit_clients = min_fit_clients\n",
    "        self.min_evaluate_clients = min_evaluate_clients\n",
    "        self.min_available_clients = min_available_clients\n",
    "\n",
    "    def __repr__(self) -> str:\n",
    "        return \"FedCustom\"\n",
    "\n",
    "    def initialize_parameters(\n",
    "        self, client_manager: ClientManager\n",
    "    ) -> Optional[Parameters]:\n",
    "        \"\"\"Initialize global model parameters.\"\"\"\n",
    "        net = Net()\n",
    "        ndarrays = get_parameters(net)\n",
    "        return fl.common.ndarrays_to_parameters(ndarrays)\n",
    "\n",
    "    def configure_fit(\n",
    "        self, server_round: int, parameters: Parameters, client_manager: ClientManager\n",
    "    ) -> List[Tuple[ClientProxy, FitIns]]:\n",
    "        \"\"\"Configure the next round of training.\"\"\"\n",
    "\n",
    "        # Sample clients\n",
    "        sample_size, min_num_clients = self.num_fit_clients(\n",
    "            client_manager.num_available()\n",
    "        )\n",
    "        clients = client_manager.sample(\n",
    "            num_clients=sample_size, min_num_clients=min_num_clients\n",
    "        )\n",
    "\n",
    "        # Create custom configs\n",
    "        n_clients = len(clients)\n",
    "        half_clients = n_clients // 2\n",
    "        standard_config = {\"lr\": 0.001}\n",
    "        higher_lr_config = {\"lr\": 0.003}\n",
    "        fit_configurations = []\n",
    "        for idx, client in enumerate(clients):\n",
    "            if idx < half_clients:\n",
    "                fit_configurations.append((client, FitIns(parameters, standard_config)))\n",
    "            else:\n",
    "                fit_configurations.append(\n",
    "                    (client, FitIns(parameters, higher_lr_config))\n",
    "                )\n",
    "        return fit_configurations\n",
    "\n",
    "    def aggregate_fit(\n",
    "        self,\n",
    "        server_round: int,\n",
    "        results: List[Tuple[ClientProxy, FitRes]],\n",
    "        failures: List[Union[Tuple[ClientProxy, FitRes], BaseException]],\n",
    "    ) -> Tuple[Optional[Parameters], Dict[str, Scalar]]:\n",
    "        \"\"\"Aggregate fit results using weighted average.\"\"\"\n",
    "\n",
    "        weights_results = [\n",
    "            (parameters_to_ndarrays(fit_res.parameters), fit_res.num_examples)\n",
    "            for _, fit_res in results\n",
    "        ]\n",
    "        parameters_aggregated = ndarrays_to_parameters(aggregate(weights_results))\n",
    "        metrics_aggregated = {}\n",
    "        return parameters_aggregated, metrics_aggregated\n",
    "\n",
    "    def configure_evaluate(\n",
    "        self, server_round: int, parameters: Parameters, client_manager: ClientManager\n",
    "    ) -> List[Tuple[ClientProxy, EvaluateIns]]:\n",
    "        \"\"\"Configure the next round of evaluation.\"\"\"\n",
    "        if self.fraction_evaluate == 0.0:\n",
    "            return []\n",
    "        config = {}\n",
    "        evaluate_ins = EvaluateIns(parameters, config)\n",
    "\n",
    "        # Sample clients\n",
    "        sample_size, min_num_clients = self.num_evaluation_clients(\n",
    "            client_manager.num_available()\n",
    "        )\n",
    "        clients = client_manager.sample(\n",
    "            num_clients=sample_size, min_num_clients=min_num_clients\n",
    "        )\n",
    "\n",
    "        # Return client/config pairs\n",
    "        return [(client, evaluate_ins) for client in clients]\n",
    "\n",
    "    def aggregate_evaluate(\n",
    "        self,\n",
    "        server_round: int,\n",
    "        results: List[Tuple[ClientProxy, EvaluateRes]],\n",
    "        failures: List[Union[Tuple[ClientProxy, EvaluateRes], BaseException]],\n",
    "    ) -> Tuple[Optional[float], Dict[str, Scalar]]:\n",
    "        \"\"\"Aggregate evaluation losses using weighted average.\"\"\"\n",
    "\n",
    "        if not results:\n",
    "            return None, {}\n",
    "\n",
    "        loss_aggregated = weighted_loss_avg(\n",
    "            [\n",
    "                (evaluate_res.num_examples, evaluate_res.loss)\n",
    "                for _, evaluate_res in results\n",
    "            ]\n",
    "        )\n",
    "        metrics_aggregated = {}\n",
    "        return loss_aggregated, metrics_aggregated\n",
    "\n",
    "    def evaluate(\n",
    "        self, server_round: int, parameters: Parameters\n",
    "    ) -> Optional[Tuple[float, Dict[str, Scalar]]]:\n",
    "        \"\"\"Evaluate global model parameters using an evaluation function.\"\"\"\n",
    "\n",
    "        # Let's assume we won't perform the global model evaluation on the server side.\n",
    "        return None\n",
    "\n",
    "    def num_fit_clients(self, num_available_clients: int) -> Tuple[int, int]:\n",
    "        \"\"\"Return sample size and required number of clients.\"\"\"\n",
    "        num_clients = int(num_available_clients * self.fraction_fit)\n",
    "        return max(num_clients, self.min_fit_clients), self.min_available_clients\n",
    "\n",
    "    def num_evaluation_clients(self, num_available_clients: int) -> Tuple[int, int]:\n",
    "        \"\"\"Use a fraction of available clients for evaluation.\"\"\"\n",
    "        num_clients = int(num_available_clients * self.fraction_evaluate)\n",
    "        return max(num_clients, self.min_evaluate_clients), self.min_available_clients"
   ]
  },
  {
   "cell_type": "markdown",
   "metadata": {
    "id": "EtPyRacRkxPl"
   },
   "source": [
    "Then we put this new strategy into experiment:"
   ]
  },
  {
   "cell_type": "code",
   "execution_count": 37,
   "metadata": {
    "ExecuteTime": {
     "end_time": "2024-03-06T21:49:35.858790Z",
     "start_time": "2024-03-06T21:49:23.788919Z"
    },
    "colab": {
     "base_uri": "https://localhost:8080/"
    },
    "id": "ORkg4Gyuk1ys",
    "outputId": "4ad79d58-7917-43ea-ded5-bb595d2fcbb0"
   },
   "outputs": [
    {
     "name": "stderr",
     "output_type": "stream",
     "text": [
      "INFO flwr 2024-03-07 08:49:23,789 | app.py:178 | Starting Flower simulation, config: ServerConfig(num_rounds=3, round_timeout=None)\n",
      "2024-03-07 08:49:26,945\tINFO worker.py:1621 -- Started a local Ray instance.\n",
      "INFO flwr 2024-03-07 08:49:27,678 | app.py:213 | Flower VCE: Ray initialized with resources: {'node:127.0.0.1': 1.0, 'CPU': 8.0, 'node:__internal_head__': 1.0, 'object_store_memory': 1770617241.0, 'memory': 3541234484.0}\n",
      "INFO flwr 2024-03-07 08:49:27,678 | app.py:219 | Optimize your simulation with Flower VCE: https://flower.dev/docs/framework/how-to-run-simulations.html\n",
      "INFO flwr 2024-03-07 08:49:27,679 | app.py:227 | No `client_resources` specified. Using minimal resources for clients.\n",
      "INFO flwr 2024-03-07 08:49:27,679 | app.py:242 | Flower VCE: Resources for each Virtual Client: {'num_cpus': 1, 'num_gpus': 0.0}\n",
      "INFO flwr 2024-03-07 08:49:27,685 | app.py:288 | Flower VCE: Creating VirtualClientEngineActorPool with 8 actors\n",
      "INFO flwr 2024-03-07 08:49:27,685 | server.py:89 | Initializing global parameters\n",
      "INFO flwr 2024-03-07 08:49:27,689 | server.py:272 | Using initial parameters provided by strategy\n",
      "INFO flwr 2024-03-07 08:49:27,691 | server.py:91 | Evaluating initial parameters\n",
      "INFO flwr 2024-03-07 08:49:27,692 | server.py:104 | FL starting\n",
      "DEBUG flwr 2024-03-07 08:49:27,694 | server.py:222 | fit_round 1: strategy sampled 2 clients (out of 2)\n"
     ]
    },
    {
     "name": "stdout",
     "output_type": "stream",
     "text": [
      "\u001B[2m\u001B[36m(DefaultActor pid=2504)\u001B[0m [Client 1] fit, config: {'lr': 0.001}\n",
      "\u001B[2m\u001B[36m(DefaultActor pid=2504)\u001B[0m Epoch 1: train loss 0.10317037254571915, accuracy 0.044444444444444446\n"
     ]
    },
    {
     "name": "stderr",
     "output_type": "stream",
     "text": [
      "\u001B[2m\u001B[36m(DefaultActor pid=2504)\u001B[0m /Users/dongyi-guo/anaconda3/lib/python3.11/site-packages/flwr/simulation/ray_transport/ray_actor.py:72: DeprecationWarning:  Ensure your client is of type `flwr.client.Client`. Please convert it using the `.to_client()` method before returning it in the `client_fn` you pass to `start_simulation`. We have applied this conversion on your behalf. Not returning a `Client` might trigger an error in future versions of Flower.\n",
      "\u001B[2m\u001B[36m(DefaultActor pid=2504)\u001B[0m   client = check_clientfn_returns_client(client_fn(cid))\n",
      "DEBUG flwr 2024-03-07 08:49:29,849 | server.py:236 | fit_round 1 received 2 results and 0 failures\n",
      "DEBUG flwr 2024-03-07 08:49:29,853 | server.py:173 | evaluate_round 1: strategy sampled 2 clients (out of 2)\n",
      "DEBUG flwr 2024-03-07 08:49:31,022 | server.py:187 | evaluate_round 1 received 2 results and 0 failures\n",
      "DEBUG flwr 2024-03-07 08:49:31,023 | server.py:222 | fit_round 2: strategy sampled 2 clients (out of 2)\n"
     ]
    },
    {
     "name": "stdout",
     "output_type": "stream",
     "text": [
      "\u001B[2m\u001B[36m(DefaultActor pid=2503)\u001B[0m [Client 0] evaluate, config: {}\n"
     ]
    },
    {
     "name": "stderr",
     "output_type": "stream",
     "text": [
      "DEBUG flwr 2024-03-07 08:49:32,171 | server.py:236 | fit_round 2 received 2 results and 0 failures\n",
      "DEBUG flwr 2024-03-07 08:49:32,173 | server.py:173 | evaluate_round 2: strategy sampled 2 clients (out of 2)\n",
      "DEBUG flwr 2024-03-07 08:49:33,335 | server.py:187 | evaluate_round 2 received 2 results and 0 failures\n",
      "DEBUG flwr 2024-03-07 08:49:33,335 | server.py:222 | fit_round 3: strategy sampled 2 clients (out of 2)\n",
      "DEBUG flwr 2024-03-07 08:49:34,615 | server.py:236 | fit_round 3 received 2 results and 0 failures\n",
      "DEBUG flwr 2024-03-07 08:49:34,618 | server.py:173 | evaluate_round 3: strategy sampled 2 clients (out of 2)\n"
     ]
    },
    {
     "name": "stdout",
     "output_type": "stream",
     "text": [
      "\u001B[2m\u001B[36m(DefaultActor pid=2504)\u001B[0m [Client 0] fit, config: {'lr': 0.001}\u001B[32m [repeated 4x across cluster]\u001B[0m\n",
      "\u001B[2m\u001B[36m(DefaultActor pid=2504)\u001B[0m Epoch 1: train loss 0.10273797810077667, accuracy 0.044444444444444446\u001B[32m [repeated 4x across cluster]\u001B[0m\n"
     ]
    },
    {
     "name": "stderr",
     "output_type": "stream",
     "text": [
      "DEBUG flwr 2024-03-07 08:49:35,844 | server.py:187 | evaluate_round 3 received 2 results and 0 failures\n",
      "INFO flwr 2024-03-07 08:49:35,844 | server.py:153 | FL finished in 8.150406499999917\n",
      "INFO flwr 2024-03-07 08:49:35,845 | app.py:226 | app_fit: losses_distributed [(1, 0.45521745681762693), (2, 0.45562946796417236), (3, 0.4559154033660889)]\n",
      "INFO flwr 2024-03-07 08:49:35,845 | app.py:227 | app_fit: metrics_distributed_fit {}\n",
      "INFO flwr 2024-03-07 08:49:35,845 | app.py:228 | app_fit: metrics_distributed {}\n",
      "INFO flwr 2024-03-07 08:49:35,846 | app.py:229 | app_fit: losses_centralized []\n",
      "INFO flwr 2024-03-07 08:49:35,846 | app.py:230 | app_fit: metrics_centralized {}\n"
     ]
    },
    {
     "data": {
      "text/plain": [
       "History (loss, distributed):\n",
       "\tround 1: 0.45521745681762693\n",
       "\tround 2: 0.45562946796417236\n",
       "\tround 3: 0.4559154033660889"
      ]
     },
     "execution_count": 37,
     "metadata": {},
     "output_type": "execute_result"
    }
   ],
   "source": [
    "fl.simulation.start_simulation(\n",
    "    client_fn=client_fn,\n",
    "    num_clients=2,\n",
    "    config=fl.server.ServerConfig(num_rounds=3),\n",
    "    strategy=FedCustom(),  # <-- pass the new strategy here\n",
    "    client_resources=client_resources,\n",
    ")"
   ]
  },
  {
   "cell_type": "markdown",
   "metadata": {
    "id": "xRMqHrXCndpf"
   },
   "source": [
    "# Client Customisation\n",
    "\n",
    "## NumPyClient\n",
    "\n",
    "Before, we create our ```FlowerClient``` as a subclass of ```fl.client.NumPyClient``` which gives us ease and conveniences working with machine learning libraries with a good NumPy interoperability. Now we will try to use a more generic class ```client```, which provides us more flexibility and allows us on further customisation.\n",
    "\n",
    "So what we did before is: inherit the ```NumPyClient```, implement ```get_parameters()```, ```fit()```, and ```evaluate()``` functions, and finally wrap the client instance creation into a function ```client_fn()```:"
   ]
  },
  {
   "cell_type": "code",
   "execution_count": 38,
   "metadata": {
    "ExecuteTime": {
     "end_time": "2024-03-06T21:49:35.867606Z",
     "start_time": "2024-03-06T21:49:35.860940Z"
    },
    "collapsed": false
   },
   "outputs": [],
   "source": [
    "class FlowerNumPyClient(fl.client.NumPyClient):\n",
    "    def __init__(self, cid, net, trainloader, valloader):\n",
    "        self.cid = cid\n",
    "        self.net = net\n",
    "        self.trainloader = trainloader\n",
    "        self.valloader = valloader\n",
    "\n",
    "    def get_parameters(self, config):\n",
    "        print(f\"[Client {self.cid}] get_parameters\")\n",
    "        return get_parameters(self.net)\n",
    "\n",
    "    def fit(self, parameters, config):\n",
    "        print(f\"[Client {self.cid}] fit, config: {config}\")\n",
    "        set_parameters(self.net, parameters)\n",
    "        train(self.net, self.trainloader, epochs=1)\n",
    "        return get_parameters(self.net), len(self.trainloader), {}\n",
    "\n",
    "    def evaluate(self, parameters, config):\n",
    "        print(f\"[Client {self.cid}] evaluate, config: {config}\")\n",
    "        set_parameters(self.net, parameters)\n",
    "        loss, accuracy = test(self.net, self.valloader)\n",
    "        return float(loss), len(self.valloader), {\"accuracy\": float(accuracy)}\n",
    "\n",
    "\n",
    "def numpyclient_fn(cid) -> FlowerNumPyClient:\n",
    "    net = Net().to(DEVICE)\n",
    "    trainloader = trainloaders[int(cid)]\n",
    "    valloader = valloaders[int(cid)]\n",
    "    return FlowerNumPyClient(cid, net, trainloader, valloader)"
   ]
  },
  {
   "cell_type": "markdown",
   "metadata": {
    "collapsed": false
   },
   "source": [
    "Now, let's run a little simulation:"
   ]
  },
  {
   "cell_type": "code",
   "execution_count": 39,
   "metadata": {
    "ExecuteTime": {
     "end_time": "2024-03-06T21:49:50.786805Z",
     "start_time": "2024-03-06T21:49:35.868447Z"
    },
    "collapsed": false
   },
   "outputs": [
    {
     "name": "stderr",
     "output_type": "stream",
     "text": [
      "INFO flwr 2024-03-07 08:49:35,869 | app.py:178 | Starting Flower simulation, config: ServerConfig(num_rounds=3, round_timeout=None)\n",
      "2024-03-07 08:49:39,476\tINFO worker.py:1621 -- Started a local Ray instance.\n",
      "INFO flwr 2024-03-07 08:49:40,404 | app.py:213 | Flower VCE: Ray initialized with resources: {'memory': 3006431232.0, 'node:__internal_head__': 1.0, 'node:127.0.0.1': 1.0, 'object_store_memory': 1503215616.0, 'CPU': 8.0}\n",
      "INFO flwr 2024-03-07 08:49:40,404 | app.py:219 | Optimize your simulation with Flower VCE: https://flower.dev/docs/framework/how-to-run-simulations.html\n",
      "INFO flwr 2024-03-07 08:49:40,404 | app.py:227 | No `client_resources` specified. Using minimal resources for clients.\n",
      "INFO flwr 2024-03-07 08:49:40,405 | app.py:242 | Flower VCE: Resources for each Virtual Client: {'num_cpus': 1, 'num_gpus': 0.0}\n",
      "INFO flwr 2024-03-07 08:49:40,413 | app.py:288 | Flower VCE: Creating VirtualClientEngineActorPool with 8 actors\n",
      "INFO flwr 2024-03-07 08:49:40,413 | server.py:89 | Initializing global parameters\n",
      "INFO flwr 2024-03-07 08:49:40,414 | server.py:276 | Requesting initial parameters from one random client\n",
      "\u001B[2m\u001B[36m(DefaultActor pid=2574)\u001B[0m /Users/dongyi-guo/anaconda3/lib/python3.11/site-packages/flwr/simulation/ray_transport/ray_actor.py:72: DeprecationWarning:  Ensure your client is of type `flwr.client.Client`. Please convert it using the `.to_client()` method before returning it in the `client_fn` you pass to `start_simulation`. We have applied this conversion on your behalf. Not returning a `Client` might trigger an error in future versions of Flower.\n",
      "\u001B[2m\u001B[36m(DefaultActor pid=2574)\u001B[0m   client = check_clientfn_returns_client(client_fn(cid))\n",
      "INFO flwr 2024-03-07 08:49:42,660 | server.py:280 | Received initial parameters from one random client\n",
      "INFO flwr 2024-03-07 08:49:42,660 | server.py:91 | Evaluating initial parameters\n",
      "INFO flwr 2024-03-07 08:49:42,660 | server.py:104 | FL starting\n",
      "DEBUG flwr 2024-03-07 08:49:42,660 | server.py:222 | fit_round 1: strategy sampled 2 clients (out of 2)\n"
     ]
    },
    {
     "name": "stdout",
     "output_type": "stream",
     "text": [
      "\u001B[2m\u001B[36m(DefaultActor pid=2574)\u001B[0m [Client 1] get_parameters\n",
      "\u001B[2m\u001B[36m(DefaultActor pid=2574)\u001B[0m [Client 1] fit, config: {}\n",
      "\u001B[2m\u001B[36m(DefaultActor pid=2574)\u001B[0m Epoch 1: train loss 0.10173460841178894, accuracy 0.15555555555555556\n"
     ]
    },
    {
     "name": "stderr",
     "output_type": "stream",
     "text": [
      "DEBUG flwr 2024-03-07 08:49:44,592 | server.py:236 | fit_round 1 received 2 results and 0 failures\n",
      "WARNING flwr 2024-03-07 08:49:44,595 | fedavg.py:250 | No fit_metrics_aggregation_fn provided\n",
      "DEBUG flwr 2024-03-07 08:49:44,595 | server.py:173 | evaluate_round 1: strategy sampled 2 clients (out of 2)\n",
      "DEBUG flwr 2024-03-07 08:49:45,879 | server.py:187 | evaluate_round 1 received 2 results and 0 failures\n",
      "WARNING flwr 2024-03-07 08:49:45,879 | fedavg.py:281 | No evaluate_metrics_aggregation_fn provided\n",
      "DEBUG flwr 2024-03-07 08:49:45,880 | server.py:222 | fit_round 2: strategy sampled 2 clients (out of 2)\n"
     ]
    },
    {
     "name": "stdout",
     "output_type": "stream",
     "text": [
      "\u001B[2m\u001B[36m(DefaultActor pid=2573)\u001B[0m [Client 0] evaluate, config: {}\n"
     ]
    },
    {
     "name": "stderr",
     "output_type": "stream",
     "text": [
      "DEBUG flwr 2024-03-07 08:49:47,128 | server.py:236 | fit_round 2 received 2 results and 0 failures\n",
      "DEBUG flwr 2024-03-07 08:49:47,130 | server.py:173 | evaluate_round 2: strategy sampled 2 clients (out of 2)\n",
      "DEBUG flwr 2024-03-07 08:49:48,420 | server.py:187 | evaluate_round 2 received 2 results and 0 failures\n",
      "DEBUG flwr 2024-03-07 08:49:48,421 | server.py:222 | fit_round 3: strategy sampled 2 clients (out of 2)\n"
     ]
    },
    {
     "name": "stdout",
     "output_type": "stream",
     "text": [
      "\u001B[2m\u001B[36m(DefaultActor pid=2573)\u001B[0m [Client 0] fit, config: {}\u001B[32m [repeated 3x across cluster]\u001B[0m\n",
      "\u001B[2m\u001B[36m(DefaultActor pid=2573)\u001B[0m Epoch 1: train loss 0.10246743261814117, accuracy 0.06666666666666667\u001B[32m [repeated 3x across cluster]\u001B[0m\n"
     ]
    },
    {
     "name": "stderr",
     "output_type": "stream",
     "text": [
      "DEBUG flwr 2024-03-07 08:49:49,649 | server.py:236 | fit_round 3 received 2 results and 0 failures\n",
      "DEBUG flwr 2024-03-07 08:49:49,652 | server.py:173 | evaluate_round 3: strategy sampled 2 clients (out of 2)\n",
      "DEBUG flwr 2024-03-07 08:49:50,778 | server.py:187 | evaluate_round 3 received 2 results and 0 failures\n",
      "INFO flwr 2024-03-07 08:49:50,778 | server.py:153 | FL finished in 8.117644458000086\n",
      "INFO flwr 2024-03-07 08:49:50,778 | app.py:226 | app_fit: losses_distributed [(1, 0.4618361949920654), (2, 0.4626173496246338), (3, 0.4625376224517822)]\n",
      "INFO flwr 2024-03-07 08:49:50,779 | app.py:227 | app_fit: metrics_distributed_fit {}\n",
      "INFO flwr 2024-03-07 08:49:50,779 | app.py:228 | app_fit: metrics_distributed {}\n",
      "INFO flwr 2024-03-07 08:49:50,779 | app.py:229 | app_fit: losses_centralized []\n",
      "INFO flwr 2024-03-07 08:49:50,779 | app.py:230 | app_fit: metrics_centralized {}\n"
     ]
    },
    {
     "data": {
      "text/plain": [
       "History (loss, distributed):\n",
       "\tround 1: 0.4618361949920654\n",
       "\tround 2: 0.4626173496246338\n",
       "\tround 3: 0.4625376224517822"
      ]
     },
     "execution_count": 39,
     "metadata": {},
     "output_type": "execute_result"
    }
   ],
   "source": [
    "# Specify client resources if you need GPU (defaults to 1 CPU and 0 GPU)\n",
    "client_resources = None\n",
    "if DEVICE.type == \"cuda\":\n",
    "    client_resources = {\"num_gpus\": 1}\n",
    "\n",
    "fl.simulation.start_simulation(\n",
    "    client_fn=numpyclient_fn,\n",
    "    num_clients=2,\n",
    "    config=fl.server.ServerConfig(num_rounds=3),\n",
    "    client_resources=client_resources,\n",
    ")"
   ]
  },
  {
   "cell_type": "markdown",
   "metadata": {
    "collapsed": false
   },
   "source": []
  },
  {
   "cell_type": "code",
   "execution_count": 40,
   "metadata": {
    "ExecuteTime": {
     "end_time": "2024-03-06T21:49:50.803958Z",
     "start_time": "2024-03-06T21:49:50.797472Z"
    },
    "collapsed": false
   },
   "outputs": [],
   "source": [
    "class FlowerClient(fl.client.Client):\n",
    "    def __init__(self, cid, net, trainloader, valloader):\n",
    "        self.cid = cid\n",
    "        self.net = net\n",
    "        self.trainloader = trainloader\n",
    "        self.valloader = valloader\n",
    "\n",
    "    def get_parameters(self, ins: GetParametersIns) -> GetParametersRes:\n",
    "        print(f\"[Client {self.cid}] get_parameters\")\n",
    "\n",
    "        # Get parameters as a list of NumPy ndarray's\n",
    "        ndarrays: List[np.ndarray] = get_parameters(self.net)\n",
    "\n",
    "        # Serialize ndarray's into a Parameters object\n",
    "        parameters = ndarrays_to_parameters(ndarrays)\n",
    "\n",
    "        # Build and return response\n",
    "        status = Status(code=Code.OK, message=\"Success\")\n",
    "        return GetParametersRes(\n",
    "            status=status,\n",
    "            parameters=parameters,\n",
    "        )\n",
    "\n",
    "    def fit(self, ins: FitIns) -> FitRes:\n",
    "        print(f\"[Client {self.cid}] fit, config: {ins.config}\")\n",
    "\n",
    "        # Deserialize parameters to NumPy ndarray's\n",
    "        parameters_original = ins.parameters\n",
    "        ndarrays_original = parameters_to_ndarrays(parameters_original)\n",
    "\n",
    "        # Update local model, train, get updated parameters\n",
    "        set_parameters(self.net, ndarrays_original)\n",
    "        train(self.net, self.trainloader, epochs=1)\n",
    "        ndarrays_updated = get_parameters(self.net)\n",
    "\n",
    "        # Serialize ndarray's into a Parameters object\n",
    "        parameters_updated = ndarrays_to_parameters(ndarrays_updated)\n",
    "\n",
    "        # Build and return response\n",
    "        status = Status(code=Code.OK, message=\"Success\")\n",
    "        return FitRes(\n",
    "            status=status,\n",
    "            parameters=parameters_updated,\n",
    "            num_examples=len(self.trainloader),\n",
    "            metrics={},\n",
    "        )\n",
    "\n",
    "    def evaluate(self, ins: EvaluateIns) -> EvaluateRes:\n",
    "        print(f\"[Client {self.cid}] evaluate, config: {ins.config}\")\n",
    "\n",
    "        # Deserialize parameters to NumPy ndarray's\n",
    "        parameters_original = ins.parameters\n",
    "        ndarrays_original = parameters_to_ndarrays(parameters_original)\n",
    "\n",
    "        set_parameters(self.net, ndarrays_original)\n",
    "        loss, accuracy = test(self.net, self.valloader)\n",
    "        # return float(loss), len(self.valloader), {\"accuracy\": float(accuracy)}\n",
    "\n",
    "        # Build and return response\n",
    "        status = Status(code=Code.OK, message=\"Success\")\n",
    "        return EvaluateRes(\n",
    "            status=status,\n",
    "            loss=float(loss),\n",
    "            num_examples=len(self.valloader),\n",
    "            metrics={\"accuracy\": float(accuracy)},\n",
    "        )\n",
    "\n",
    "\n",
    "def client_fn(cid) -> FlowerClient:\n",
    "    net = Net().to(DEVICE)\n",
    "    trainloader = trainloaders[int(cid)]\n",
    "    valloader = valloaders[int(cid)]\n",
    "    return FlowerClient(cid, net, trainloader, valloader)"
   ]
  },
  {
   "cell_type": "code",
   "execution_count": 41,
   "metadata": {
    "ExecuteTime": {
     "end_time": "2024-03-06T21:50:04.404439Z",
     "start_time": "2024-03-06T21:49:50.804490Z"
    },
    "collapsed": false
   },
   "outputs": [
    {
     "name": "stderr",
     "output_type": "stream",
     "text": [
      "INFO flwr 2024-03-07 08:49:50,805 | app.py:178 | Starting Flower simulation, config: ServerConfig(num_rounds=3, round_timeout=None)\n",
      "2024-03-07 08:49:54,262\tINFO worker.py:1621 -- Started a local Ray instance.\n",
      "INFO flwr 2024-03-07 08:49:54,982 | app.py:213 | Flower VCE: Ray initialized with resources: {'memory': 3345167156.0, 'CPU': 8.0, 'object_store_memory': 1672583577.0, 'node:__internal_head__': 1.0, 'node:127.0.0.1': 1.0}\n",
      "INFO flwr 2024-03-07 08:49:54,982 | app.py:219 | Optimize your simulation with Flower VCE: https://flower.dev/docs/framework/how-to-run-simulations.html\n",
      "INFO flwr 2024-03-07 08:49:54,983 | app.py:227 | No `client_resources` specified. Using minimal resources for clients.\n",
      "INFO flwr 2024-03-07 08:49:54,983 | app.py:242 | Flower VCE: Resources for each Virtual Client: {'num_cpus': 1, 'num_gpus': 0.0}\n",
      "INFO flwr 2024-03-07 08:49:54,990 | app.py:288 | Flower VCE: Creating VirtualClientEngineActorPool with 8 actors\n",
      "INFO flwr 2024-03-07 08:49:54,991 | server.py:89 | Initializing global parameters\n",
      "INFO flwr 2024-03-07 08:49:54,992 | server.py:276 | Requesting initial parameters from one random client\n",
      "INFO flwr 2024-03-07 08:49:56,625 | server.py:280 | Received initial parameters from one random client\n",
      "INFO flwr 2024-03-07 08:49:56,626 | server.py:91 | Evaluating initial parameters\n",
      "INFO flwr 2024-03-07 08:49:56,626 | server.py:104 | FL starting\n",
      "DEBUG flwr 2024-03-07 08:49:56,626 | server.py:222 | fit_round 1: strategy sampled 2 clients (out of 2)\n"
     ]
    },
    {
     "name": "stdout",
     "output_type": "stream",
     "text": [
      "\u001B[2m\u001B[36m(DefaultActor pid=2617)\u001B[0m [Client 0] get_parameters\n",
      "\u001B[2m\u001B[36m(DefaultActor pid=2617)\u001B[0m [Client 1] fit, config: {}\n",
      "\u001B[2m\u001B[36m(DefaultActor pid=2617)\u001B[0m Epoch 1: train loss 0.10262178629636765, accuracy 0.06666666666666667\n"
     ]
    },
    {
     "name": "stderr",
     "output_type": "stream",
     "text": [
      "DEBUG flwr 2024-03-07 08:49:58,341 | server.py:236 | fit_round 1 received 2 results and 0 failures\n",
      "WARNING flwr 2024-03-07 08:49:58,343 | fedavg.py:250 | No fit_metrics_aggregation_fn provided\n",
      "DEBUG flwr 2024-03-07 08:49:58,344 | server.py:173 | evaluate_round 1: strategy sampled 2 clients (out of 2)\n",
      "DEBUG flwr 2024-03-07 08:49:59,516 | server.py:187 | evaluate_round 1 received 2 results and 0 failures\n",
      "WARNING flwr 2024-03-07 08:49:59,516 | fedavg.py:281 | No evaluate_metrics_aggregation_fn provided\n",
      "DEBUG flwr 2024-03-07 08:49:59,516 | server.py:222 | fit_round 2: strategy sampled 2 clients (out of 2)\n"
     ]
    },
    {
     "name": "stdout",
     "output_type": "stream",
     "text": [
      "\u001B[2m\u001B[36m(DefaultActor pid=2616)\u001B[0m [Client 0] evaluate, config: {}\n"
     ]
    },
    {
     "name": "stderr",
     "output_type": "stream",
     "text": [
      "DEBUG flwr 2024-03-07 08:50:00,741 | server.py:236 | fit_round 2 received 2 results and 0 failures\n",
      "DEBUG flwr 2024-03-07 08:50:00,744 | server.py:173 | evaluate_round 2: strategy sampled 2 clients (out of 2)\n",
      "DEBUG flwr 2024-03-07 08:50:02,057 | server.py:187 | evaluate_round 2 received 2 results and 0 failures\n",
      "DEBUG flwr 2024-03-07 08:50:02,061 | server.py:222 | fit_round 3: strategy sampled 2 clients (out of 2)\n",
      "DEBUG flwr 2024-03-07 08:50:03,266 | server.py:236 | fit_round 3 received 2 results and 0 failures\n",
      "DEBUG flwr 2024-03-07 08:50:03,270 | server.py:173 | evaluate_round 3: strategy sampled 2 clients (out of 2)\n"
     ]
    },
    {
     "name": "stdout",
     "output_type": "stream",
     "text": [
      "\u001B[2m\u001B[36m(DefaultActor pid=2617)\u001B[0m [Client 1] fit, config: {}\u001B[32m [repeated 4x across cluster]\u001B[0m\n",
      "\u001B[2m\u001B[36m(DefaultActor pid=2617)\u001B[0m Epoch 1: train loss 0.10155552625656128, accuracy 0.24444444444444444\u001B[32m [repeated 4x across cluster]\u001B[0m\n"
     ]
    },
    {
     "name": "stderr",
     "output_type": "stream",
     "text": [
      "DEBUG flwr 2024-03-07 08:50:04,396 | server.py:187 | evaluate_round 3 received 2 results and 0 failures\n",
      "INFO flwr 2024-03-07 08:50:04,397 | server.py:153 | FL finished in 7.770772207999926\n",
      "INFO flwr 2024-03-07 08:50:04,397 | app.py:226 | app_fit: losses_distributed [(1, 0.4615116834640503), (2, 0.46015577316284184), (3, 0.45867280960083007)]\n",
      "INFO flwr 2024-03-07 08:50:04,397 | app.py:227 | app_fit: metrics_distributed_fit {}\n",
      "INFO flwr 2024-03-07 08:50:04,397 | app.py:228 | app_fit: metrics_distributed {}\n",
      "INFO flwr 2024-03-07 08:50:04,398 | app.py:229 | app_fit: losses_centralized []\n",
      "INFO flwr 2024-03-07 08:50:04,398 | app.py:230 | app_fit: metrics_centralized {}\n"
     ]
    },
    {
     "data": {
      "text/plain": [
       "History (loss, distributed):\n",
       "\tround 1: 0.4615116834640503\n",
       "\tround 2: 0.46015577316284184\n",
       "\tround 3: 0.45867280960083007"
      ]
     },
     "execution_count": 41,
     "metadata": {},
     "output_type": "execute_result"
    }
   ],
   "source": [
    "fl.simulation.start_simulation(\n",
    "    client_fn=client_fn,\n",
    "    num_clients=2,\n",
    "    config=fl.server.ServerConfig(num_rounds=3),\n",
    "    client_resources=client_resources,\n",
    ")"
   ]
  },
  {
   "cell_type": "code",
   "execution_count": 42,
   "metadata": {
    "ExecuteTime": {
     "end_time": "2024-03-06T21:50:04.413066Z",
     "start_time": "2024-03-06T21:50:04.406883Z"
    },
    "collapsed": false
   },
   "outputs": [],
   "source": [
    "def ndarrays_to_sparse_parameters(ndarrays: NDArrays) -> Parameters:\n",
    "    \"\"\"Convert NumPy ndarrays to parameters object.\"\"\"\n",
    "    tensors = [ndarray_to_sparse_bytes(ndarray) for ndarray in ndarrays]\n",
    "    return Parameters(tensors=tensors, tensor_type=\"numpy.ndarray\")\n",
    "\n",
    "\n",
    "def sparse_parameters_to_ndarrays(parameters: Parameters) -> NDArrays:\n",
    "    \"\"\"Convert parameters object to NumPy ndarrays.\"\"\"\n",
    "    return [sparse_bytes_to_ndarray(tensor) for tensor in parameters.tensors]\n",
    "\n",
    "\n",
    "def ndarray_to_sparse_bytes(ndarray: NDArray) -> bytes:\n",
    "    \"\"\"Serialize NumPy ndarray to bytes.\"\"\"\n",
    "    bytes_io = BytesIO()\n",
    "\n",
    "    if len(ndarray.shape) > 1:\n",
    "        # We convert our ndarray into a sparse matrix\n",
    "        ndarray = torch.tensor(ndarray).to_sparse_csr()\n",
    "\n",
    "        # And send it byutilizing the sparse matrix attributes\n",
    "        # WARNING: NEVER set allow_pickle to true.\n",
    "        # Reason: loading pickled data can execute arbitrary code\n",
    "        # Source: https://numpy.org/doc/stable/reference/generated/numpy.save.html\n",
    "        np.savez(\n",
    "            bytes_io,  # type: ignore\n",
    "            crow_indices=ndarray.crow_indices(),\n",
    "            col_indices=ndarray.col_indices(),\n",
    "            values=ndarray.values(),\n",
    "            allow_pickle=False,\n",
    "        )\n",
    "    else:\n",
    "        # WARNING: NEVER set allow_pickle to true.\n",
    "        # Reason: loading pickled data can execute arbitrary code\n",
    "        # Source: https://numpy.org/doc/stable/reference/generated/numpy.save.html\n",
    "        np.save(bytes_io, ndarray, allow_pickle=False)\n",
    "    return bytes_io.getvalue()\n",
    "\n",
    "\n",
    "def sparse_bytes_to_ndarray(tensor: bytes) -> NDArray:\n",
    "    \"\"\"Deserialize NumPy ndarray from bytes.\"\"\"\n",
    "    bytes_io = BytesIO(tensor)\n",
    "    # WARNING: NEVER set allow_pickle to true.\n",
    "    # Reason: loading pickled data can execute arbitrary code\n",
    "    # Source: https://numpy.org/doc/stable/reference/generated/numpy.load.html\n",
    "    loader = np.load(bytes_io, allow_pickle=False)  # type: ignore\n",
    "\n",
    "    if \"crow_indices\" in loader:\n",
    "        # We convert our sparse matrix back to a ndarray, using the attributes we sent\n",
    "        ndarray_deserialized = (\n",
    "            torch.sparse_csr_tensor(\n",
    "                crow_indices=loader[\"crow_indices\"],\n",
    "                col_indices=loader[\"col_indices\"],\n",
    "                values=loader[\"values\"],\n",
    "            )\n",
    "            .to_dense()\n",
    "            .numpy()\n",
    "        )\n",
    "    else:\n",
    "        ndarray_deserialized = loader\n",
    "    return cast(NDArray, ndarray_deserialized)"
   ]
  },
  {
   "cell_type": "code",
   "execution_count": 45,
   "metadata": {
    "ExecuteTime": {
     "end_time": "2024-03-07T00:27:35.984475Z",
     "start_time": "2024-03-07T00:27:35.973910Z"
    },
    "collapsed": false
   },
   "outputs": [],
   "source": [
    "class FlowerClient(fl.client.Client):\n",
    "    def __init__(self, cid, net, trainloader, valloader):\n",
    "        self.cid = cid\n",
    "        self.net = net\n",
    "        self.trainloader = trainloader\n",
    "        self.valloader = valloader\n",
    "\n",
    "    def get_parameters(self, ins: GetParametersIns) -> GetParametersRes:\n",
    "        print(f\"[Client {self.cid}] get_parameters\")\n",
    "\n",
    "        # Get parameters as a list of NumPy ndarray's\n",
    "        ndarrays: List[np.ndarray] = get_parameters(self.net)\n",
    "\n",
    "        # Serialize ndarray's into a Parameters object using our custom function\n",
    "        parameters = ndarrays_to_sparse_parameters(ndarrays)\n",
    "\n",
    "        # Build and return response\n",
    "        status = Status(code=Code.OK, message=\"Success\")\n",
    "        return GetParametersRes(\n",
    "            status=status,\n",
    "            parameters=parameters,\n",
    "        )\n",
    "\n",
    "    def fit(self, ins: FitIns) -> FitRes:\n",
    "        print(f\"[Client {self.cid}] fit, config: {ins.config}\")\n",
    "\n",
    "        # Deserialize parameters to NumPy ndarray's using our custom function\n",
    "        parameters_original = ins.parameters\n",
    "        ndarrays_original = sparse_parameters_to_ndarrays(parameters_original)\n",
    "\n",
    "        # Update local model, train, get updated parameters\n",
    "        set_parameters(self.net, ndarrays_original)\n",
    "        train(self.net, self.trainloader, epochs=1)\n",
    "        ndarrays_updated = get_parameters(self.net)\n",
    "\n",
    "        # Serialize ndarray's into a Parameters object using our custom function\n",
    "        parameters_updated = ndarrays_to_sparse_parameters(ndarrays_updated)\n",
    "\n",
    "        # Build and return response\n",
    "        status = Status(code=Code.OK, message=\"Success\")\n",
    "        return FitRes(\n",
    "            status=status,\n",
    "            parameters=parameters_updated,\n",
    "            num_examples=len(self.trainloader),\n",
    "            metrics={},\n",
    "        )\n",
    "\n",
    "    def evaluate(self, ins: EvaluateIns) -> EvaluateRes:\n",
    "        print(f\"[Client {self.cid}] evaluate, config: {ins.config}\")\n",
    "\n",
    "        # Deserialize parameters to NumPy ndarray's using our custom function\n",
    "        parameters_original = ins.parameters\n",
    "        ndarrays_original = sparse_parameters_to_ndarrays(parameters_original)\n",
    "\n",
    "        set_parameters(self.net, ndarrays_original)\n",
    "        loss, accuracy = test(self.net, self.valloader)\n",
    "\n",
    "        # Build and return response\n",
    "        status = Status(code=Code.OK, message=\"Success\")\n",
    "        return EvaluateRes(\n",
    "            status=status,\n",
    "            loss=float(loss),\n",
    "            num_examples=len(self.valloader),\n",
    "            metrics={\"accuracy\": float(accuracy)},\n",
    "        )\n",
    "\n",
    "\n",
    "def client_fn(cid) -> FlowerClient:\n",
    "    net = Net().to(DEVICE)\n",
    "    trainloader = trainloaders[int(cid)]\n",
    "    valloader = valloaders[int(cid)]\n",
    "    return FlowerClient(cid, net, trainloader, valloader)"
   ]
  },
  {
   "cell_type": "code",
   "execution_count": 46,
   "metadata": {
    "ExecuteTime": {
     "end_time": "2024-03-07T00:27:37.974662Z",
     "start_time": "2024-03-07T00:27:37.966819Z"
    },
    "collapsed": false
   },
   "outputs": [],
   "source": [
    "WARNING_MIN_AVAILABLE_CLIENTS_TOO_LOW = \"\"\"\n",
    "Setting `min_available_clients` lower than `min_fit_clients` or\n",
    "`min_evaluate_clients` can cause the server to fail when there are too few clients\n",
    "connected to the server. `min_available_clients` must be set to a value larger\n",
    "than or equal to the values of `min_fit_clients` and `min_evaluate_clients`.\n",
    "\"\"\"\n",
    "\n",
    "\n",
    "class FedSparse(FedAvg):\n",
    "    def __init__(\n",
    "            self,\n",
    "            *,\n",
    "            fraction_fit: float = 1.0,\n",
    "            fraction_evaluate: float = 1.0,\n",
    "            min_fit_clients: int = 2,\n",
    "            min_evaluate_clients: int = 2,\n",
    "            min_available_clients: int = 2,\n",
    "            evaluate_fn: Optional[\n",
    "                Callable[\n",
    "                    [int, NDArrays, Dict[str, Scalar]],\n",
    "                    Optional[Tuple[float, Dict[str, Scalar]]],\n",
    "                ]\n",
    "            ] = None,\n",
    "            on_fit_config_fn: Optional[Callable[[int], Dict[str, Scalar]]] = None,\n",
    "            on_evaluate_config_fn: Optional[Callable[[int], Dict[str, Scalar]]] = None,\n",
    "            accept_failures: bool = True,\n",
    "            initial_parameters: Optional[Parameters] = None,\n",
    "            fit_metrics_aggregation_fn: Optional[MetricsAggregationFn] = None,\n",
    "            evaluate_metrics_aggregation_fn: Optional[MetricsAggregationFn] = None,\n",
    "    ) -> None:\n",
    "        \"\"\"Custom FedAvg strategy with sparse matrices.\n",
    "\n",
    "        Parameters\n",
    "        ----------\n",
    "        fraction_fit : float, optional\n",
    "            Fraction of clients used during training. Defaults to 0.1.\n",
    "        fraction_evaluate : float, optional\n",
    "            Fraction of clients used during validation. Defaults to 0.1.\n",
    "        min_fit_clients : int, optional\n",
    "            Minimum number of clients used during training. Defaults to 2.\n",
    "        min_evaluate_clients : int, optional\n",
    "            Minimum number of clients used during validation. Defaults to 2.\n",
    "        min_available_clients : int, optional\n",
    "            Minimum number of total clients in the system. Defaults to 2.\n",
    "        evaluate_fn : Optional[Callable[[int, NDArrays, Dict[str, Scalar]], Optional[Tuple[float, Dict[str, Scalar]]]]]\n",
    "            Optional function used for validation. Defaults to None.\n",
    "        on_fit_config_fn : Callable[[int], Dict[str, Scalar]], optional\n",
    "            Function used to configure training. Defaults to None.\n",
    "        on_evaluate_config_fn : Callable[[int], Dict[str, Scalar]], optional\n",
    "            Function used to configure validation. Defaults to None.\n",
    "        accept_failures : bool, optional\n",
    "            Whether or not accept rounds containing failures. Defaults to True.\n",
    "        initial_parameters : Parameters, optional\n",
    "            Initial global model parameters.\n",
    "        \"\"\"\n",
    "\n",
    "        if (\n",
    "                min_fit_clients > min_available_clients\n",
    "                or min_evaluate_clients > min_available_clients\n",
    "        ):\n",
    "            log(WARNING, WARNING_MIN_AVAILABLE_CLIENTS_TOO_LOW)\n",
    "\n",
    "        super().__init__(\n",
    "            fraction_fit=fraction_fit,\n",
    "            fraction_evaluate=fraction_evaluate,\n",
    "            min_fit_clients=min_fit_clients,\n",
    "            min_evaluate_clients=min_evaluate_clients,\n",
    "            min_available_clients=min_available_clients,\n",
    "            evaluate_fn=evaluate_fn,\n",
    "            on_fit_config_fn=on_fit_config_fn,\n",
    "            on_evaluate_config_fn=on_evaluate_config_fn,\n",
    "            accept_failures=accept_failures,\n",
    "            initial_parameters=initial_parameters,\n",
    "            fit_metrics_aggregation_fn=fit_metrics_aggregation_fn,\n",
    "            evaluate_metrics_aggregation_fn=evaluate_metrics_aggregation_fn,\n",
    "        )\n",
    "\n",
    "    def evaluate(\n",
    "            self, server_round: int, parameters: Parameters\n",
    "    ) -> Optional[Tuple[float, Dict[str, Scalar]]]:\n",
    "        \"\"\"Evaluate model parameters using an evaluation function.\"\"\"\n",
    "        if self.evaluate_fn is None:\n",
    "            # No evaluation function provided\n",
    "            return None\n",
    "\n",
    "        # We deserialize using our custom method\n",
    "        parameters_ndarrays = sparse_parameters_to_ndarrays(parameters)\n",
    "\n",
    "        eval_res = self.evaluate_fn(server_round, parameters_ndarrays, {})\n",
    "        if eval_res is None:\n",
    "            return None\n",
    "        loss, metrics = eval_res\n",
    "        return loss, metrics\n",
    "\n",
    "    def aggregate_fit(\n",
    "            self,\n",
    "            server_round: int,\n",
    "            results: List[Tuple[ClientProxy, FitRes]],\n",
    "            failures: List[Union[Tuple[ClientProxy, FitRes], BaseException]],\n",
    "    ) -> Tuple[Optional[Parameters], Dict[str, Scalar]]:\n",
    "        \"\"\"Aggregate fit results using weighted average.\"\"\"\n",
    "        if not results:\n",
    "            return None, {}\n",
    "        # Do not aggregate if there are failures and failures are not accepted\n",
    "        if not self.accept_failures and failures:\n",
    "            return None, {}\n",
    "\n",
    "        # We deserialize each of the results with our custom method\n",
    "        weights_results = [\n",
    "            (sparse_parameters_to_ndarrays(fit_res.parameters), fit_res.num_examples)\n",
    "            for _, fit_res in results\n",
    "        ]\n",
    "\n",
    "        # We serialize the aggregated result using our custom method\n",
    "        parameters_aggregated = ndarrays_to_sparse_parameters(\n",
    "            aggregate(weights_results)\n",
    "        )\n",
    "\n",
    "        # Aggregate custom metrics if aggregation fn was provided\n",
    "        metrics_aggregated = {}\n",
    "        if self.fit_metrics_aggregation_fn:\n",
    "            fit_metrics = [(res.num_examples, res.metrics) for _, res in results]\n",
    "            metrics_aggregated = self.fit_metrics_aggregation_fn(fit_metrics)\n",
    "        elif server_round == 1:  # Only log this warning once\n",
    "            log(WARNING, \"No fit_metrics_aggregation_fn provided\")\n",
    "\n",
    "        return parameters_aggregated, metrics_aggregated"
   ]
  },
  {
   "cell_type": "code",
   "execution_count": 47,
   "metadata": {
    "ExecuteTime": {
     "end_time": "2024-03-07T00:28:00.702159Z",
     "start_time": "2024-03-07T00:27:43.995747Z"
    },
    "collapsed": false
   },
   "outputs": [
    {
     "name": "stderr",
     "output_type": "stream",
     "text": [
      "INFO flwr 2024-03-07 11:27:43,996 | app.py:178 | Starting Flower simulation, config: ServerConfig(num_rounds=3, round_timeout=None)\n",
      "2024-03-07 11:27:47,802\tINFO worker.py:1621 -- Started a local Ray instance.\n",
      "INFO flwr 2024-03-07 11:27:48,658 | app.py:213 | Flower VCE: Ray initialized with resources: {'CPU': 8.0, 'object_store_memory': 1389055180.0, 'node:__internal_head__': 1.0, 'node:127.0.0.1': 1.0, 'memory': 2778110363.0}\n",
      "INFO flwr 2024-03-07 11:27:48,659 | app.py:219 | Optimize your simulation with Flower VCE: https://flower.dev/docs/framework/how-to-run-simulations.html\n",
      "INFO flwr 2024-03-07 11:27:48,659 | app.py:227 | No `client_resources` specified. Using minimal resources for clients.\n",
      "INFO flwr 2024-03-07 11:27:48,659 | app.py:242 | Flower VCE: Resources for each Virtual Client: {'num_cpus': 1, 'num_gpus': 0.0}\n",
      "INFO flwr 2024-03-07 11:27:48,674 | app.py:288 | Flower VCE: Creating VirtualClientEngineActorPool with 8 actors\n",
      "INFO flwr 2024-03-07 11:27:48,675 | server.py:89 | Initializing global parameters\n",
      "INFO flwr 2024-03-07 11:27:48,676 | server.py:276 | Requesting initial parameters from one random client\n",
      "INFO flwr 2024-03-07 11:27:51,413 | server.py:280 | Received initial parameters from one random client\n",
      "INFO flwr 2024-03-07 11:27:51,414 | server.py:91 | Evaluating initial parameters\n",
      "INFO flwr 2024-03-07 11:27:51,415 | server.py:104 | FL starting\n",
      "DEBUG flwr 2024-03-07 11:27:51,415 | server.py:222 | fit_round 1: strategy sampled 2 clients (out of 2)\n",
      "\u001B[2m\u001B[36m(DefaultActor pid=3504)\u001B[0m /var/folders/2t/lxn5xwyj375_9b8qw_bbr5c40000gn/T/ipykernel_2047/3911047240.py:18: UserWarning: Sparse CSR tensor support is in beta state. If you miss a functionality in the sparse tensor support, please submit a feature request to https://github.com/pytorch/pytorch/issues. (Triggered internally at /Users/runner/work/pytorch/pytorch/pytorch/aten/src/ATen/SparseCsrTensorImpl.cpp:56.)\n"
     ]
    },
    {
     "name": "stdout",
     "output_type": "stream",
     "text": [
      "\u001B[2m\u001B[36m(DefaultActor pid=3504)\u001B[0m [Client 1] get_parameters\n",
      "\u001B[2m\u001B[36m(DefaultActor pid=3504)\u001B[0m [Client 0] fit, config: {}\n",
      "\u001B[2m\u001B[36m(DefaultActor pid=3504)\u001B[0m Epoch 1: train loss 0.1024341806769371, accuracy 0.1111111111111111\n"
     ]
    },
    {
     "name": "stderr",
     "output_type": "stream",
     "text": [
      "\u001B[2m\u001B[36m(DefaultActor pid=3504)\u001B[0m /var/folders/2t/lxn5xwyj375_9b8qw_bbr5c40000gn/T/ipykernel_2047/3911047240.py:47: FutureWarning: elementwise comparison failed; returning scalar instead, but in the future will perform elementwise comparison\n",
      "DEBUG flwr 2024-03-07 11:27:53,363 | server.py:236 | fit_round 1 received 2 results and 0 failures\n",
      "/var/folders/2t/lxn5xwyj375_9b8qw_bbr5c40000gn/T/ipykernel_2047/3911047240.py:50: UserWarning: Sparse CSR tensor support is in beta state. If you miss a functionality in the sparse tensor support, please submit a feature request to https://github.com/pytorch/pytorch/issues. (Triggered internally at /Users/runner/work/pytorch/pytorch/pytorch/aten/src/ATen/SparseCsrTensorImpl.cpp:56.)\n",
      "  torch.sparse_csr_tensor(\n",
      "/var/folders/2t/lxn5xwyj375_9b8qw_bbr5c40000gn/T/ipykernel_2047/3911047240.py:47: FutureWarning: elementwise comparison failed; returning scalar instead, but in the future will perform elementwise comparison\n",
      "  if \"crow_indices\" in loader:\n",
      "WARNING flwr 2024-03-07 11:27:53,381 | 2522022878.py:125 | No fit_metrics_aggregation_fn provided\n",
      "DEBUG flwr 2024-03-07 11:27:53,381 | server.py:173 | evaluate_round 1: strategy sampled 2 clients (out of 2)\n",
      "DEBUG flwr 2024-03-07 11:27:55,257 | server.py:187 | evaluate_round 1 received 2 results and 0 failures\n",
      "WARNING flwr 2024-03-07 11:27:55,258 | fedavg.py:281 | No evaluate_metrics_aggregation_fn provided\n",
      "DEBUG flwr 2024-03-07 11:27:55,258 | server.py:222 | fit_round 2: strategy sampled 2 clients (out of 2)\n"
     ]
    },
    {
     "name": "stdout",
     "output_type": "stream",
     "text": [
      "\u001B[2m\u001B[36m(DefaultActor pid=3503)\u001B[0m [Client 1] evaluate, config: {}\n"
     ]
    },
    {
     "name": "stderr",
     "output_type": "stream",
     "text": [
      "DEBUG flwr 2024-03-07 11:27:56,787 | server.py:236 | fit_round 2 received 2 results and 0 failures\n",
      "DEBUG flwr 2024-03-07 11:27:56,799 | server.py:173 | evaluate_round 2: strategy sampled 2 clients (out of 2)\n",
      "\u001B[2m\u001B[36m(DefaultActor pid=3503)\u001B[0m /var/folders/2t/lxn5xwyj375_9b8qw_bbr5c40000gn/T/ipykernel_2047/3911047240.py:50: UserWarning: Sparse CSR tensor support is in beta state. If you miss a functionality in the sparse tensor support, please submit a feature request to https://github.com/pytorch/pytorch/issues. (Triggered internally at /Users/runner/work/pytorch/pytorch/pytorch/aten/src/ATen/SparseCsrTensorImpl.cpp:56.)\n",
      "\u001B[2m\u001B[36m(DefaultActor pid=3503)\u001B[0m /var/folders/2t/lxn5xwyj375_9b8qw_bbr5c40000gn/T/ipykernel_2047/3911047240.py:47: FutureWarning: elementwise comparison failed; returning scalar instead, but in the future will perform elementwise comparison\u001B[32m [repeated 6x across cluster]\u001B[0m\n",
      "DEBUG flwr 2024-03-07 11:27:58,123 | server.py:187 | evaluate_round 2 received 2 results and 0 failures\n",
      "DEBUG flwr 2024-03-07 11:27:58,123 | server.py:222 | fit_round 3: strategy sampled 2 clients (out of 2)\n"
     ]
    },
    {
     "name": "stdout",
     "output_type": "stream",
     "text": [
      "\u001B[2m\u001B[36m(DefaultActor pid=3503)\u001B[0m [Client 1] fit, config: {}\u001B[32m [repeated 3x across cluster]\u001B[0m\n",
      "\u001B[2m\u001B[36m(DefaultActor pid=3503)\u001B[0m Epoch 1: train loss 0.10117293149232864, accuracy 0.1111111111111111\u001B[32m [repeated 3x across cluster]\u001B[0m\n"
     ]
    },
    {
     "name": "stderr",
     "output_type": "stream",
     "text": [
      "DEBUG flwr 2024-03-07 11:27:59,397 | server.py:236 | fit_round 3 received 2 results and 0 failures\n",
      "DEBUG flwr 2024-03-07 11:27:59,408 | server.py:173 | evaluate_round 3: strategy sampled 2 clients (out of 2)\n",
      "DEBUG flwr 2024-03-07 11:28:00,693 | server.py:187 | evaluate_round 3 received 2 results and 0 failures\n",
      "INFO flwr 2024-03-07 11:28:00,693 | server.py:153 | FL finished in 9.278459249999287\n",
      "INFO flwr 2024-03-07 11:28:00,693 | app.py:226 | app_fit: losses_distributed [(1, 0.4583361625671387), (2, 0.4580328941345215), (3, 0.45730063915252683)]\n",
      "INFO flwr 2024-03-07 11:28:00,694 | app.py:227 | app_fit: metrics_distributed_fit {}\n",
      "INFO flwr 2024-03-07 11:28:00,694 | app.py:228 | app_fit: metrics_distributed {}\n",
      "INFO flwr 2024-03-07 11:28:00,694 | app.py:229 | app_fit: losses_centralized []\n",
      "INFO flwr 2024-03-07 11:28:00,694 | app.py:230 | app_fit: metrics_centralized {}\n"
     ]
    },
    {
     "name": "stdout",
     "output_type": "stream",
     "text": [
      "\u001B[2m\u001B[36m(DefaultActor pid=3503)\u001B[0m [Client 0] evaluate, config: {}\u001B[32m [repeated 4x across cluster]\u001B[0m\n"
     ]
    },
    {
     "data": {
      "text/plain": [
       "History (loss, distributed):\n",
       "\tround 1: 0.4583361625671387\n",
       "\tround 2: 0.4580328941345215\n",
       "\tround 3: 0.45730063915252683"
      ]
     },
     "execution_count": 47,
     "metadata": {},
     "output_type": "execute_result"
    }
   ],
   "source": [
    "strategy = FedSparse()\n",
    "\n",
    "fl.simulation.start_simulation(\n",
    "    strategy=strategy,\n",
    "    client_fn=client_fn,\n",
    "    num_clients=2,\n",
    "    config=fl.server.ServerConfig(num_rounds=3),\n",
    "    client_resources=client_resources,\n",
    ")"
   ]
  }
 ],
 "metadata": {
  "accelerator": "GPU",
  "colab": {
   "gpuType": "T4",
   "provenance": []
  },
  "kernelspec": {
   "display_name": "Python 3 (ipykernel)",
   "language": "python",
   "name": "python3"
  },
  "language_info": {
   "codemirror_mode": {
    "name": "ipython",
    "version": 3
   },
   "file_extension": ".py",
   "mimetype": "text/x-python",
   "name": "python",
   "nbconvert_exporter": "python",
   "pygments_lexer": "ipython3",
   "version": "3.11.5"
  }
 },
 "nbformat": 4,
 "nbformat_minor": 4
}
